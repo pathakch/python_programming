{
 "cells": [
  {
   "cell_type": "markdown",
   "metadata": {},
   "source": [
    "### Class And Object:\n",
    "        Class is blueprint or template for object \n",
    "        And objets are instance for classes\n",
    "        \n",
    "        Class has states and methods so does object have.\n",
    "        \n",
    "        Creating our first class:\n",
    "        Check below -->>"
   ]
  },
  {
   "cell_type": "code",
   "execution_count": 1,
   "metadata": {},
   "outputs": [],
   "source": [
    "class pound:\n",
    "    value=1.00\n",
    "    colour=\"gold\"\n",
    "    num_edges=1\n",
    "    diameter=3.15 #mm\n",
    "    thickness=1.25 #mm\n",
    "    head=True    "
   ]
  },
  {
   "cell_type": "code",
   "execution_count": 3,
   "metadata": {},
   "outputs": [
    {
     "name": "stdout",
     "output_type": "stream",
     "text": [
      "1.0\n",
      "1.25\n"
     ]
    }
   ],
   "source": [
    "coin1=pound()\n",
    "print(coin1.value)\n",
    "print(coin1.thickness)"
   ]
  },
  {
   "cell_type": "code",
   "execution_count": 4,
   "metadata": {},
   "outputs": [
    {
     "name": "stdout",
     "output_type": "stream",
     "text": [
      "1.0\n",
      "True\n"
     ]
    }
   ],
   "source": [
    "coin2=pound()\n",
    "print(coin2.value)\n",
    "print(coin2.head)"
   ]
  },
  {
   "cell_type": "code",
   "execution_count": 9,
   "metadata": {},
   "outputs": [],
   "source": [
    "'''we are changing the value of object coin2\n",
    "but due to this change main class value wont be changed so all the value for object coin1 will remain same as it is'''\n",
    "\n",
    "coin2.value=1.50              \n",
    "coin2.colour=\"greenish\""
   ]
  },
  {
   "cell_type": "code",
   "execution_count": 10,
   "metadata": {},
   "outputs": [
    {
     "name": "stdout",
     "output_type": "stream",
     "text": [
      "greenish\n",
      "1.5\n",
      "1.0\n",
      "gold\n"
     ]
    }
   ],
   "source": [
    "'''we can see in output that the values for coin1 remain same as it is'''\n",
    "print(coin2.colour)\n",
    "print(coin2.value)\n",
    "print(coin1.value)\n",
    "print(coin1.colour)"
   ]
  },
  {
   "cell_type": "markdown",
   "metadata": {},
   "source": [
    "### Class Method :"
   ]
  },
  {
   "cell_type": "code",
   "execution_count": 11,
   "metadata": {},
   "outputs": [
    {
     "name": "stdout",
     "output_type": "stream",
     "text": [
      "10.0\n",
      "4.25\n"
     ]
    }
   ],
   "source": [
    "'''First of all we define constructor then we will create method\n",
    "   this is the general way of defining constructor\n",
    "'''\n",
    "\n",
    "class pound:\n",
    "    def __init__(self):     ## <<---:constructor\n",
    "        self.value=10.00\n",
    "        self.colour=\"gold\"\n",
    "        self.num_edges=1\n",
    "        self.diameter=5.15  #mm\n",
    "        self.thickness=4.25 #mm\n",
    "        self.head=True\n",
    "        \n",
    "coin1=pound()\n",
    "\n",
    "print(coin1.value)\n",
    "print(coin1.thickness)"
   ]
  },
  {
   "cell_type": "code",
   "execution_count": 49,
   "metadata": {},
   "outputs": [
    {
     "name": "stdout",
     "output_type": "stream",
     "text": [
      "coin spent\n",
      "coin spent\n",
      "coin 1: 1.0 gold\n",
      "\n",
      "\n",
      "coin2 : 50.0 black\n",
      "\n",
      "\n",
      "rusty colour\n",
      "\n",
      "\n",
      "True\n",
      "\n",
      "\n",
      "True\n",
      "\n",
      "\n",
      "coin spent\n"
     ]
    },
    {
     "ename": "NameError",
     "evalue": "name 'coin1' is not defined",
     "output_type": "error",
     "traceback": [
      "\u001b[1;31m---------------------------------------------------------------------------\u001b[0m",
      "\u001b[1;31mNameError\u001b[0m                                 Traceback (most recent call last)",
      "\u001b[1;32m<ipython-input-49-89dd2eae19f2>\u001b[0m in \u001b[0;36m<module>\u001b[1;34m\u001b[0m\n\u001b[0;32m     53\u001b[0m \u001b[1;33m\u001b[0m\u001b[0m\n\u001b[0;32m     54\u001b[0m \u001b[1;32mdel\u001b[0m \u001b[0mcoin1\u001b[0m\u001b[1;33m\u001b[0m\u001b[1;33m\u001b[0m\u001b[0m\n\u001b[1;32m---> 55\u001b[1;33m \u001b[0mcoin1\u001b[0m\u001b[1;33m\u001b[0m\u001b[1;33m\u001b[0m\u001b[0m\n\u001b[0m",
      "\u001b[1;31mNameError\u001b[0m: name 'coin1' is not defined"
     ]
    }
   ],
   "source": [
    "import random  # 'random' module has been imported to take advantes of 'choice()' method \n",
    "class pound:\n",
    "    def __init__(self,rare=False):  \n",
    "        '''here parameter bydefault is False but while passing arguments \n",
    "           we can give it as True also if not then it will take it's bydefault value'''\n",
    "        \n",
    "        self.rare=rare\n",
    "        \n",
    "        if self.rare:\n",
    "            self.value=50.00\n",
    "            self.colour=\"black\"\n",
    "        else:\n",
    "            self.value=1.0\n",
    "            self.colour=\"gold\"\n",
    "    \n",
    "        self.num_edges=1\n",
    "        self.diameter=3.00\n",
    "        self.thickness=4.00\n",
    "        self.head=True\n",
    "        \n",
    "    def __del__(self):       #  <<<<----:Destructor it will destroy the object if called on any object\n",
    "        print(\"coin spent\")\n",
    "        \n",
    "    def rust(self):\n",
    "        self.colour=\"rusty colour\"\n",
    "        \n",
    "    def clean(self):\n",
    "        self.colour=\"clean colour\"\n",
    "        \n",
    "    def flip(self):\n",
    "        heads_option=([True,False])\n",
    "        choice=random.choice(heads_option)\n",
    "        self.head=choice\n",
    "        \n",
    "        \n",
    "coin1=pound()\n",
    "coin2=pound(rare=True) # we have passed rare=True so it will not take its by default value \n",
    "\n",
    "print(\"coin 1:\",coin1.value,coin1.colour)\n",
    "print(\"\\n\")\n",
    "print(\"coin2 :\",coin2.value,coin2.colour)\n",
    "print(\"\\n\")\n",
    "coin1.rust()     # we have called rust method on coin1 like we call \"list.append\" it is like list.method() or string.method()\n",
    "print(coin1.colour)\n",
    "print(\"\\n\")\n",
    "coin1.flip()\n",
    "print(coin1.head)\n",
    "print(\"\\n\")\n",
    "coin1.flip()\n",
    "print(coin1.head)\n",
    "print(\"\\n\")\n",
    "\n",
    "del coin1  # ater calling this function coin1 will be destroyed \n",
    "coin1      # coin1 will not be defined since its been destroyed due to above destrouctor call."
   ]
  },
  {
   "cell_type": "code",
   "execution_count": 46,
   "metadata": {},
   "outputs": [
    {
     "name": "stdout",
     "output_type": "stream",
     "text": [
      "False\n"
     ]
    }
   ],
   "source": [
    "coin3=pound()\n",
    "coin3.flip()\n",
    "print(coin3.head)"
   ]
  },
  {
   "cell_type": "code",
   "execution_count": 43,
   "metadata": {},
   "outputs": [
    {
     "name": "stdout",
     "output_type": "stream",
     "text": [
      "True\n"
     ]
    }
   ],
   "source": [
    "coin3=pound()\n",
    "coin3.flip()\n",
    "print(coin3.head)"
   ]
  },
  {
   "cell_type": "markdown",
   "metadata": {},
   "source": [
    "### Suppose we want to create more coins of 100p,200p which will be having same states and methods then we use inheritance and incapsulations property of object oriented programming "
   ]
  },
  {
   "cell_type": "code",
   "execution_count": 48,
   "metadata": {},
   "outputs": [],
   "source": [
    "import random \n",
    "class coin:\n",
    "    def __init__(self,rare=False,clean=True,heads=True,**kwargs):  ## '**kwargs' using this we are packing the data\n",
    "        '''here parameter bydefault is False but while passing arguments \n",
    "           we can give it as True also if not then it will take it's bydefault value same explanation for parameter 'clear' '''\n",
    "        for key,value in kwargs.items():\n",
    "            setattr(self,key,value) \n",
    "            \n",
    "        '''what this piece of code is going to do is it will set all the value like \n",
    "                                   self.original_value=1 and\n",
    "                                   self.original_colour=\"original colour of coin\" and so on \n",
    "                                   so we will not need to do by ourselves '''\n",
    "        \n",
    "        self.is_rare=rare\n",
    "        self.is_clean=clean\n",
    "        self.heads=heads\n",
    "        \n",
    "        if self.is_rare:\n",
    "            self.value=self.original_value*1.25\n",
    "        else:\n",
    "            self.value=self.original_value\n",
    "        if self.is_clean:\n",
    "            self.colour=self.clean_colour\n",
    "        else:\n",
    "            self.colour=self.rusty_colour\n",
    "    \n",
    "    def __del__(self):\n",
    "        print(\"coin spent\")\n",
    "        \n",
    "    def rust(self):\n",
    "        self.colour=self.rusty_ colour\n",
    "        \n",
    "    def clean(self):\n",
    "        self.colour=self.clean_colour\n",
    "        \n",
    "    def flip(self):\n",
    "        heads_option=([True,False])\n",
    "        choice=random.choice(heads_option)\n",
    "        self.head=choice\n",
    "        \n",
    "class pound(coin):\n",
    "    def __init__(self):\n",
    "        data={\n",
    "            \"original_value\":1.00,\n",
    "            \"clean_colour\":\"clean colour of pound coin\",\n",
    "            \"rusty_colour\":\"rusty colour of pound coin\",\n",
    "            \"thickness\":3.15,\n",
    "            \"diameter\":1.25,\n",
    "            \"mass\":9.5\n",
    "            \n",
    "        }\n",
    "        super().__init__(**data)    #here using '**data' we are unpacking the data\n",
    "          "
   ]
  },
  {
   "cell_type": "code",
   "execution_count": 49,
   "metadata": {},
   "outputs": [
    {
     "name": "stdout",
     "output_type": "stream",
     "text": [
      "coin spent\n",
      "clean colour of pound coin\n",
      "rusty colour of pound coin\n",
      "clean colour of pound coin\n"
     ]
    }
   ],
   "source": [
    "pound_1_coin=pound()\n",
    "print(pound_1_coin.colour)\n",
    "pound_1_coin.rust()\n",
    "print(pound_1_coin.colour)\n",
    "pound_1_coin.clean()\n",
    "print(pound_1_coin.colour)"
   ]
  },
  {
   "cell_type": "markdown",
   "metadata": {},
   "source": [
    "#### Creating one_pence coin\n",
    "     Check Below:\n",
    "     "
   ]
  },
  {
   "cell_type": "code",
   "execution_count": 50,
   "metadata": {},
   "outputs": [],
   "source": [
    "class one_pence(coin):\n",
    "    def __init__(self):\n",
    "        data={\n",
    "            \"original_value\":0.01,\n",
    "            \"clean_colour\":\"pencil colour\",\n",
    "            \"rusty_colour\":\"rusty pencil colour\",\n",
    "            \"thickness\":3.47,\n",
    "            \"diameter\":4.98,\n",
    "            \"mass\":9.01\n",
    "        }\n",
    "        super().__init__(**data)"
   ]
  },
  {
   "cell_type": "code",
   "execution_count": 58,
   "metadata": {},
   "outputs": [],
   "source": [
    "pence_1_coin=one_pence()"
   ]
  },
  {
   "cell_type": "code",
   "execution_count": 59,
   "metadata": {},
   "outputs": [
    {
     "name": "stdout",
     "output_type": "stream",
     "text": [
      "pencil colour\n",
      "rusty pencil colour\n",
      "coin spent\n"
     ]
    },
    {
     "ename": "NameError",
     "evalue": "name 'pence_1_coin' is not defined",
     "output_type": "error",
     "traceback": [
      "\u001b[1;31m---------------------------------------------------------------------------\u001b[0m",
      "\u001b[1;31mNameError\u001b[0m                                 Traceback (most recent call last)",
      "\u001b[1;32m<ipython-input-59-aa6e40b53601>\u001b[0m in \u001b[0;36m<module>\u001b[1;34m\u001b[0m\n\u001b[0;32m      4\u001b[0m \u001b[1;33m\u001b[0m\u001b[0m\n\u001b[0;32m      5\u001b[0m \u001b[1;32mdel\u001b[0m \u001b[0mpence_1_coin\u001b[0m\u001b[1;33m\u001b[0m\u001b[1;33m\u001b[0m\u001b[0m\n\u001b[1;32m----> 6\u001b[1;33m \u001b[0mprint\u001b[0m\u001b[1;33m(\u001b[0m\u001b[0mpence_1_coin\u001b[0m\u001b[1;33m.\u001b[0m\u001b[0mcolour\u001b[0m\u001b[1;33m)\u001b[0m\u001b[1;33m\u001b[0m\u001b[1;33m\u001b[0m\u001b[0m\n\u001b[0m",
      "\u001b[1;31mNameError\u001b[0m: name 'pence_1_coin' is not defined"
     ]
    }
   ],
   "source": [
    "print(pence_1_coin.colour)\n",
    "pence_1_coin.rust()\n",
    "print(pence_1_coin.colour)\n",
    "\n",
    "del pence_1_coin\n",
    "print(pence_1_coin.colour)"
   ]
  },
  {
   "cell_type": "markdown",
   "metadata": {},
   "source": [
    "### polymorphism:\n",
    "     already rust function is there in parent class \"coin\" but in new different coin class(child class) we will agian define        this function(overwrite the function) in other form that is called polymorphism :\n",
    "     \n",
    "     Check Below :--->>"
   ]
  },
  {
   "cell_type": "code",
   "execution_count": 63,
   "metadata": {},
   "outputs": [],
   "source": [
    "class ten_pence(coin):\n",
    "    def __init__(self):\n",
    "        \n",
    "        data={\n",
    "             \"original_value\":0.10,\n",
    "        \"clean_colour\":\"clean colour of ten_pence coin\",\n",
    "        \"rusty_colour\":None,\n",
    "        \"thickness\":3.10,\n",
    "        \"diameter\":3.50,\n",
    "        \"mass\":10\n",
    "       \n",
    "    }\n",
    "    \n",
    "        super().__init__(**data)\n",
    "        def rust(self):\n",
    "            self.colour=self.clean_colour\n",
    "        def clean(self):\n",
    "            self.colour=self.clean_colour"
   ]
  },
  {
   "cell_type": "code",
   "execution_count": 64,
   "metadata": {},
   "outputs": [],
   "source": [
    "coin_10_pence=ten_pence()"
   ]
  },
  {
   "cell_type": "code",
   "execution_count": 74,
   "metadata": {},
   "outputs": [
    {
     "name": "stdout",
     "output_type": "stream",
     "text": [
      "clean colour of ten_pence coin\n",
      "None\n",
      "\n",
      "\n",
      "None\n",
      "clean colour of ten_pence coin\n",
      "True\n",
      "True\n"
     ]
    }
   ],
   "source": [
    "print(coin_10_pence.colour)\n",
    "coin_10_pence.rust()\n",
    "print(coin_10_pence.colour)\n",
    "print(\"\\n\")\n",
    "print(coin_10_pence.colour)\n",
    "coin_10_pence.clean()\n",
    "print(coin_10_pence.colour)\n",
    "coin_10_pence.flip()\n",
    "print(coin_10_pence.head)\n",
    "coin_10_pence.flip()\n",
    "print(coin_10_pence.head)"
   ]
  },
  {
   "cell_type": "markdown",
   "metadata": {},
   "source": [
    "### Bank project:-->>"
   ]
  },
  {
   "cell_type": "code",
   "execution_count": 109,
   "metadata": {},
   "outputs": [],
   "source": [
    "class Account:\n",
    "    def __init__(self,name,balance,min_balance): ## (\"self,\"Ziyad\",500,-1000) these data are just for understanding how it works \n",
    "                                                                                #when one instance with some parameters created\n",
    "        self.balance=balance                      # self.balace=50\n",
    "        self.name=name                            # self.name=\"Ziyad\"\n",
    "        self.min_balance=min_balance              # self.min_balance=-1000\n",
    "    \n",
    "    def deposit(self,amount):\n",
    "        self.balance +=amount\n",
    "    def withdrawl(self,amount):\n",
    "        if self.balance-amount>=self.min_balance:\n",
    "            self.balance -=amount\n",
    "        else:\n",
    "            print(\"You dont have sufficient balance\")\n",
    "    def statements(self):\n",
    "        print(\"Account balance ${}\".format(self.balance))\n",
    "\n",
    "class Current(Account):\n",
    "    def __init__(self,name,balance):\n",
    "        super().__init__(name,balance,min_balance=-1000) ## (\"Ziyad\",500,min_balance=-1000)\n",
    "        \n",
    "    def __str__(self):\n",
    "        return \"{}'s account balance is ${}\".format(self.name,self.balance)  # this line of code prints x in decent format \n",
    "                                                                              # when we print \"print(x)\"\n",
    "        \n",
    "x=Current(\"Ziyad\",500)       ## instance (x) is created for child class 'Current'\n",
    "\n",
    "# when we create an object of child class 'Current' and pass the parameters then these parameters will first go to the \n",
    "#    super().__init__(\"Ziyad\",5000,min_balance=-1000) then from here  these parameters will go to the parent Class 'Account' \n",
    "#    parameters will be like \n",
    "#    def __init__(\"Ziyad\",500,-1000)  \n",
    "#    then the self.name for the instance 'x' will be Ziyad and self.balance will be 500 and self.min_balance=-1000 \n",
    "#    in parent class then all the functions will be apllied on these parameters if called \n",
    "#    This is how it works'''"
   ]
  },
  {
   "cell_type": "code",
   "execution_count": 110,
   "metadata": {},
   "outputs": [],
   "source": [
    "x.deposit(200)"
   ]
  },
  {
   "cell_type": "code",
   "execution_count": 111,
   "metadata": {},
   "outputs": [
    {
     "name": "stdout",
     "output_type": "stream",
     "text": [
      "Account balance $700\n"
     ]
    }
   ],
   "source": [
    "x.statements()"
   ]
  },
  {
   "cell_type": "code",
   "execution_count": 102,
   "metadata": {},
   "outputs": [
    {
     "name": "stdout",
     "output_type": "stream",
     "text": [
      "Account balance $500\n"
     ]
    }
   ],
   "source": [
    "x.withdrawl(200)\n",
    "x.statements()"
   ]
  },
  {
   "cell_type": "code",
   "execution_count": 112,
   "metadata": {},
   "outputs": [
    {
     "name": "stdout",
     "output_type": "stream",
     "text": [
      "Ziyad's account balance is $700\n"
     ]
    }
   ],
   "source": [
    "print(x)"
   ]
  },
  {
   "cell_type": "code",
   "execution_count": null,
   "metadata": {},
   "outputs": [],
   "source": []
  },
  {
   "cell_type": "code",
   "execution_count": 115,
   "metadata": {},
   "outputs": [
    {
     "name": "stdout",
     "output_type": "stream",
     "text": [
      "0\n"
     ]
    }
   ],
   "source": [
    "print(int(3/5))"
   ]
  },
  {
   "cell_type": "code",
   "execution_count": 120,
   "metadata": {},
   "outputs": [
    {
     "name": "stdout",
     "output_type": "stream",
     "text": [
      "1 2 3 4 5\n",
      "[1, 2, 3, 4, 5]\n"
     ]
    }
   ],
   "source": [
    "print(*range(1,6))\n",
    "print(list(range(1,6)))"
   ]
  },
  {
   "cell_type": "code",
   "execution_count": 121,
   "metadata": {},
   "outputs": [
    {
     "name": "stdout",
     "output_type": "stream",
     "text": [
      "0\n"
     ]
    }
   ],
   "source": [
    "i=0\n",
    "for char in \"chandan\":\n",
    "    if char==\"an\":\n",
    "        i=i+1\n",
    "print(i)"
   ]
  },
  {
   "cell_type": "code",
   "execution_count": 130,
   "metadata": {},
   "outputs": [
    {
     "name": "stdout",
     "output_type": "stream",
     "text": [
      "1\n"
     ]
    }
   ],
   "source": [
    "i=0\n",
    "if \"an\" in \"chandan\":\n",
    "     i=i+1\n",
    "print(i)        \n",
    "    "
   ]
  },
  {
   "cell_type": "code",
   "execution_count": 129,
   "metadata": {},
   "outputs": [
    {
     "data": {
      "text/plain": [
       "True"
      ]
     },
     "execution_count": 129,
     "metadata": {},
     "output_type": "execute_result"
    }
   ],
   "source": [
    "\"an\" in \"chandan\""
   ]
  },
  {
   "cell_type": "code",
   "execution_count": 179,
   "metadata": {},
   "outputs": [
    {
     "name": "stdout",
     "output_type": "stream",
     "text": [
      "True\n"
     ]
    }
   ],
   "source": [
    "s=\"##!cp!\"\n",
    "print(any(c.isalnum() for c in s))\n",
    "        \n",
    "    \n",
    "        "
   ]
  },
  {
   "cell_type": "code",
   "execution_count": 174,
   "metadata": {},
   "outputs": [
    {
     "data": {
      "text/plain": [
       "False"
      ]
     },
     "execution_count": 174,
     "metadata": {},
     "output_type": "execute_result"
    }
   ],
   "source": [
    "\"\".isalnum()"
   ]
  },
  {
   "cell_type": "code",
   "execution_count": 186,
   "metadata": {},
   "outputs": [
    {
     "name": "stdout",
     "output_type": "stream",
     "text": [
      "cha\n",
      "nda\n",
      "n\n"
     ]
    }
   ],
   "source": [
    "s=\"chandan\"\n",
    "w=3\n",
    "import textwrap\n",
    "\n",
    "for char in (textwrap.wrap(s,w)):\n",
    "    print(char)"
   ]
  },
  {
   "cell_type": "code",
   "execution_count": 187,
   "metadata": {},
   "outputs": [],
   "source": [
    "lst=[\"chandan\",\"kumar\",\"pathak\"]"
   ]
  },
  {
   "cell_type": "code",
   "execution_count": 205,
   "metadata": {},
   "outputs": [
    {
     "name": "stdout",
     "output_type": "stream",
     "text": [
      "cha\n",
      "nda\n",
      "n\n"
     ]
    }
   ],
   "source": [
    "import textwrap\n",
    "print(\"\\n\".join(textwrap.wrap(s,w)))"
   ]
  },
  {
   "cell_type": "code",
   "execution_count": 208,
   "metadata": {},
   "outputs": [
    {
     "name": "stdout",
     "output_type": "stream",
     "text": [
      "4\n"
     ]
    },
    {
     "ename": "ValueError",
     "evalue": "not enough values to unpack (expected 2, got 1)",
     "output_type": "error",
     "traceback": [
      "\u001b[1;31m---------------------------------------------------------------------------\u001b[0m",
      "\u001b[1;31mValueError\u001b[0m                                Traceback (most recent call last)",
      "\u001b[1;32m<ipython-input-208-7f3d12ff470a>\u001b[0m in \u001b[0;36m<module>\u001b[1;34m\u001b[0m\n\u001b[1;32m----> 1\u001b[1;33m \u001b[0mN\u001b[0m\u001b[1;33m,\u001b[0m \u001b[0mM\u001b[0m \u001b[1;33m=\u001b[0m \u001b[0mmap\u001b[0m\u001b[1;33m(\u001b[0m\u001b[0mint\u001b[0m\u001b[1;33m,\u001b[0m\u001b[0minput\u001b[0m\u001b[1;33m(\u001b[0m\u001b[1;33m)\u001b[0m\u001b[1;33m.\u001b[0m\u001b[0msplit\u001b[0m\u001b[1;33m(\u001b[0m\u001b[1;33m)\u001b[0m\u001b[1;33m)\u001b[0m\u001b[1;33m\u001b[0m\u001b[1;33m\u001b[0m\u001b[0m\n\u001b[0m",
      "\u001b[1;31mValueError\u001b[0m: not enough values to unpack (expected 2, got 1)"
     ]
    }
   ],
   "source": [
    "N, M = map(int,input().split())"
   ]
  },
  {
   "cell_type": "code",
   "execution_count": 211,
   "metadata": {
    "scrolled": true
   },
   "outputs": [
    {
     "name": "stdout",
     "output_type": "stream",
     "text": [
      "3 21\n",
      "---------.|.---------\n",
      "-------WELCOME-------\n",
      "---------.|.---------\n"
     ]
    }
   ],
   "source": [
    "n, m = map(int,input().split())\n",
    "pattern = [('.|.'*(2*i + 1)).center(m, '-') for i in range(n//2)]\n",
    "print('\\n'.join(pattern + ['WELCOME'.center(m, '-')] + pattern[::-1]))"
   ]
  },
  {
   "cell_type": "code",
   "execution_count": 218,
   "metadata": {},
   "outputs": [
    {
     "data": {
      "text/plain": [
       "3"
      ]
     },
     "execution_count": 218,
     "metadata": {},
     "output_type": "execute_result"
    }
   ],
   "source": [
    "7//2"
   ]
  },
  {
   "cell_type": "code",
   "execution_count": 224,
   "metadata": {},
   "outputs": [
    {
     "name": "stdout",
     "output_type": "stream",
     "text": [
      "---------.|.---------\n",
      "------.|..|..|.------\n",
      "---.|..|..|..|..|.---\n"
     ]
    }
   ],
   "source": [
    "print(\"\\n\".join([('.|.'*(2*i + 1)).center(21, '-') for i in range(7//2)]))"
   ]
  },
  {
   "cell_type": "code",
   "execution_count": 251,
   "metadata": {},
   "outputs": [
    {
     "name": "stdout",
     "output_type": "stream",
     "text": [
      "21 1011 B\n"
     ]
    }
   ],
   "source": [
    "print (oct(17).lstrip(\"00o\"),bin(11).lstrip(\"0b\"),(hex(11).strip(\"0x\")).upper())\n",
    "\n",
    "# print(bin(11).lstrip(\"0b\"))\n",
    "# print((hex(11).strip(\"0x\")).upper())"
   ]
  },
  {
   "cell_type": "code",
   "execution_count": 269,
   "metadata": {},
   "outputs": [
    {
     "ename": "TypeError",
     "evalue": "The fill character must be exactly one character long",
     "output_type": "error",
     "traceback": [
      "\u001b[1;31m---------------------------------------------------------------------------\u001b[0m",
      "\u001b[1;31mTypeError\u001b[0m                                 Traceback (most recent call last)",
      "\u001b[1;32m<ipython-input-269-5f5dd5c6cebd>\u001b[0m in \u001b[0;36m<module>\u001b[1;34m\u001b[0m\n\u001b[1;32m----> 1\u001b[1;33m \u001b[0mprint\u001b[0m\u001b[1;33m(\u001b[0m\u001b[1;33m(\u001b[0m\u001b[0mbin\u001b[0m\u001b[1;33m(\u001b[0m\u001b[1;36m11\u001b[0m\u001b[1;33m)\u001b[0m\u001b[1;33m.\u001b[0m\u001b[0mlstrip\u001b[0m\u001b[1;33m(\u001b[0m\u001b[1;34m\"0b\"\u001b[0m\u001b[1;33m)\u001b[0m\u001b[1;33m)\u001b[0m\u001b[1;33m.\u001b[0m\u001b[0mljust\u001b[0m\u001b[1;33m(\u001b[0m\u001b[1;36m3\u001b[0m\u001b[1;33m,\u001b[0m\u001b[1;34m''\u001b[0m\u001b[1;33m)\u001b[0m\u001b[1;33m)\u001b[0m\u001b[1;33m\u001b[0m\u001b[1;33m\u001b[0m\u001b[0m\n\u001b[0m",
      "\u001b[1;31mTypeError\u001b[0m: The fill character must be exactly one character long"
     ]
    }
   ],
   "source": [
    "print((bin(11).lstrip(\"0b\")).ljust(3,''))"
   ]
  },
  {
   "cell_type": "code",
   "execution_count": 248,
   "metadata": {},
   "outputs": [
    {
     "name": "stdout",
     "output_type": "stream",
     "text": [
      "B\n"
     ]
    }
   ],
   "source": [
    "print((hex(11).strip(\"0x\")).upper())"
   ]
  },
  {
   "cell_type": "code",
   "execution_count": 288,
   "metadata": {},
   "outputs": [
    {
     "name": "stdout",
     "output_type": "stream",
     "text": [
      "0   \n",
      "1 1 1 1\n",
      "2 2 2 10\n"
     ]
    }
   ],
   "source": [
    "def print_formatted(number):\n",
    "    for i in range(number):\n",
    "        w=len(bin(i).lstrip(\"0b\"))\n",
    "        print(i,(oct(i).lstrip(\"0o\")),(hex(i).strip(\"0x\").upper()),(bin(i).lstrip(\"0b\")).ljust(w,' '))\n",
    "print_formatted(3)"
   ]
  },
  {
   "cell_type": "code",
   "execution_count": 286,
   "metadata": {},
   "outputs": [
    {
     "name": "stdout",
     "output_type": "stream",
     "text": [
      "0   \n",
      "1 1 1 1\n",
      "2 2 2 10\n"
     ]
    }
   ],
   "source": [
    "print_formatted(3)"
   ]
  },
  {
   "cell_type": "code",
   "execution_count": 270,
   "metadata": {},
   "outputs": [
    {
     "data": {
      "text/plain": [
       "'chandan---'"
      ]
     },
     "execution_count": 270,
     "metadata": {},
     "output_type": "execute_result"
    }
   ],
   "source": [
    "\"chandan\".ljust(10,'-')"
   ]
  },
  {
   "cell_type": "code",
   "execution_count": 293,
   "metadata": {},
   "outputs": [
    {
     "name": "stdout",
     "output_type": "stream",
     "text": [
      "B\n"
     ]
    }
   ],
   "source": [
    "print(hex(11)[2:].upper())"
   ]
  },
  {
   "cell_type": "code",
   "execution_count": null,
   "metadata": {},
   "outputs": [],
   "source": []
  }
 ],
 "metadata": {
  "kernelspec": {
   "display_name": "Python 3",
   "language": "python",
   "name": "python3"
  },
  "language_info": {
   "codemirror_mode": {
    "name": "ipython",
    "version": 3
   },
   "file_extension": ".py",
   "mimetype": "text/x-python",
   "name": "python",
   "nbconvert_exporter": "python",
   "pygments_lexer": "ipython3",
   "version": "3.7.4"
  }
 },
 "nbformat": 4,
 "nbformat_minor": 4
}
