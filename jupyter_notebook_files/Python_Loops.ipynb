{
 "cells": [
  {
   "cell_type": "markdown",
   "metadata": {},
   "source": [
    "### while loop :\n",
    "     \"while condition:\n",
    "           Code  \"\n",
    "           \n",
    "           explanation :-->> If the above condition is true then below piece of code will be executed \n",
    "                             over and over and over again until the condition becomes false if \n",
    "                             the condition is always true then it will run infinte times "
   ]
  },
  {
   "cell_type": "code",
   "execution_count": 4,
   "metadata": {},
   "outputs": [
    {
     "name": "stdout",
     "output_type": "stream",
     "text": [
      "[-100, -20, 0, 10, 20, 45]\n"
     ]
    }
   ],
   "source": [
    "lst=[10,20,45,-100,0,-20]\n",
    "\n",
    "# (lst.sort())\n",
    "# lst\n",
    "# new_l=[]\n",
    "for i in range(len(lst)):\n",
    "    for j in range(i+1,len(lst)):\n",
    "        if lst[i]>lst[j]:\n",
    "            lst[i],lst[j]=lst[j],lst[i]\n",
    "print(lst)                    "
   ]
  },
  {
   "cell_type": "code",
   "execution_count": 2,
   "metadata": {
    "scrolled": true
   },
   "outputs": [
    {
     "name": "stdout",
     "output_type": "stream",
     "text": [
      "0\n",
      "1\n",
      "2\n",
      "3\n",
      "4\n",
      "5\n",
      "6\n",
      "7\n",
      "8\n",
      "9\n",
      "10\n"
     ]
    }
   ],
   "source": [
    "i=0\n",
    "while i<11:\n",
    "    print(i)\n",
    "    i=i+1"
   ]
  },
  {
   "cell_type": "code",
   "execution_count": 12,
   "metadata": {},
   "outputs": [
    {
     "name": "stdout",
     "output_type": "stream",
     "text": [
      "please enter a new_name :chandan\n",
      "please enter a new_name :pathak\n",
      "please enter a new_name :kumar\n",
      "please enter a new_name :hello\n",
      "please enter a new_name :bhai\n",
      "Sorry list is full\n"
     ]
    }
   ],
   "source": [
    "name=[]\n",
    "while len(name)<5:\n",
    "    new_name=input(\"please enter a new_name :\")\n",
    "    name.append(new_name)\n",
    "    \n",
    "print(\"Sorry list is full\")    "
   ]
  },
  {
   "cell_type": "markdown",
   "metadata": {},
   "source": [
    "## Baby Conversation Project"
   ]
  },
  {
   "cell_type": "code",
   "execution_count": 13,
   "metadata": {
    "scrolled": true
   },
   "outputs": [
    {
     "name": "stdout",
     "output_type": "stream",
     "text": [
      "why the sky is blue ??because its creatred blue\n",
      "why ?i don't know\n",
      "why ?i m not a knowledgable person\n",
      "why ?just because\n"
     ]
    }
   ],
   "source": [
    "answer=input(\"why the sky is blue ??\").strip().capitalize()\n",
    "while answer!=\"just because\":\n",
    "    answer=input(\"why ?\")"
   ]
  },
  {
   "cell_type": "markdown",
   "metadata": {},
   "source": [
    "#### choice method will select any random element of the list:\n",
    "     So in the list 'questions' it will select any random question\n",
    "        Check below:-->>"
   ]
  },
  {
   "cell_type": "code",
   "execution_count": 15,
   "metadata": {},
   "outputs": [
    {
     "name": "stdout",
     "output_type": "stream",
     "text": [
      "when they will come ??:kjr\n",
      "why ?:jbcj\n",
      "why ?:Just Because\n",
      "oh .. okay\n"
     ]
    }
   ],
   "source": [
    "from random import choice\n",
    "\n",
    "questions=[\"why the sky is blue ?:\",\n",
    "          \"where all the dinosoures gone ?:\",\n",
    "          \"when they will come ??:\"]\n",
    "answer=input(choice(questions))\n",
    "while answer!=\"Just Because\":\n",
    "    answer=input(\"why ?:\")\n",
    "print(\"oh .. okay\")    "
   ]
  },
  {
   "cell_type": "markdown",
   "metadata": {},
   "source": [
    "#### for loop with dictionary :-->>"
   ]
  },
  {
   "cell_type": "code",
   "execution_count": 27,
   "metadata": {},
   "outputs": [
    {
     "name": "stdout",
     "output_type": "stream",
     "text": [
      "chandan\n",
      "pathak\n",
      "suhani\n",
      "pooja\n",
      "priyanka\n",
      "neha\n"
     ]
    }
   ],
   "source": [
    "dict={\n",
    "    \"male\":['sonu','monu','kohli','chandan','pathak'],\n",
    "    \"female\":['ruhi','suhani','pooja','priyanka','neha']\n",
    "}\n",
    "\n",
    "for key in dict.keys():\n",
    "    for name in dict[key]:\n",
    "        if 'a' in name:\n",
    "            print(name)"
   ]
  },
  {
   "cell_type": "markdown",
   "metadata": {},
   "source": [
    "### Explaination for above code :\n",
    "     in first for loop dict.keys() will give male and female as output \n",
    "     then first for loop will iterate these keys male and female respectively then \n",
    "     code enters into second for loop where dict[key] will produce output as list of name and code proceed further\n",
    "     Check Above:-->>>"
   ]
  },
  {
   "cell_type": "code",
   "execution_count": 30,
   "metadata": {},
   "outputs": [
    {
     "data": {
      "text/plain": [
       "dict_keys(['male', 'female'])"
      ]
     },
     "execution_count": 30,
     "metadata": {},
     "output_type": "execute_result"
    }
   ],
   "source": [
    "dict.keys()"
   ]
  },
  {
   "cell_type": "code",
   "execution_count": 31,
   "metadata": {},
   "outputs": [
    {
     "data": {
      "text/plain": [
       "['sonu', 'monu', 'kohli', 'chandan', 'pathak']"
      ]
     },
     "execution_count": 31,
     "metadata": {},
     "output_type": "execute_result"
    }
   ],
   "source": [
    "dict[\"male\"]"
   ]
  },
  {
   "cell_type": "markdown",
   "metadata": {},
   "source": [
    "### List Comprehension:\n",
    "     Meaning creating list using for loop in one line code -very powerfull"
   ]
  },
  {
   "cell_type": "code",
   "execution_count": 33,
   "metadata": {},
   "outputs": [
    {
     "data": {
      "text/plain": [
       "[2, 4, 6, 8, 10, 12, 14, 16, 18]"
      ]
     },
     "execution_count": 33,
     "metadata": {},
     "output_type": "execute_result"
    }
   ],
   "source": [
    "even_number=[x for x in range(1,20) if x%2==0]\n",
    "even_number"
   ]
  },
  {
   "cell_type": "code",
   "execution_count": 34,
   "metadata": {},
   "outputs": [
    {
     "data": {
      "text/plain": [
       "[['CHANDAN', 'chandan', 7],\n",
       " ['MAX', 'max', 3],\n",
       " ['ALEX', 'alex', 4],\n",
       " ['TATAGLIYA', 'tatagliya', 9],\n",
       " ['JOHN', 'john', 4],\n",
       " ['HECTOR', 'hector', 6]]"
      ]
     },
     "execution_count": 34,
     "metadata": {},
     "output_type": "execute_result"
    }
   ],
   "source": [
    "name=[[w.upper(),w.lower(),len(w)] for w in ['chandan','max','Alex','Tatagliya','John','Hector']]\n",
    "name\n",
    "    "
   ]
  },
  {
   "cell_type": "markdown",
   "metadata": {},
   "source": [
    "### Pig Latin Project:--->>\n",
    "     Project Overview: if word starts from a vowel just add 'yay'at last \n",
    "     if word start from consonant then take consonant cluster from starting until vowel starts then put this consonant cluster \n",
    "     at last an add 'ay' at last in word\n",
    "     example:\n",
    "             1.if word is 'apple' then output will be 'appleyay'\n",
    "             2 if word is 'chandan' then output will be 'andanchay'\n",
    "             \n",
    "             Check Below:-->>     "
   ]
  },
  {
   "cell_type": "code",
   "execution_count": 45,
   "metadata": {},
   "outputs": [
    {
     "name": "stdout",
     "output_type": "stream",
     "text": [
      "enter the sentence :chandan pathak apple\n",
      "andanchay athakpay appleyay\n"
     ]
    }
   ],
   "source": [
    "original=input(\"enter the sentence :\")\n",
    "words=original.split()\n",
    "# words\n",
    "new_original=[]\n",
    "for word in words:\n",
    "    if word[0] in \"aeiou\":\n",
    "        new_word=word+\"yay\"\n",
    "        new_original.append(new_word)\n",
    "    else:\n",
    "        vowel_pos=0\n",
    "        for letter in word:\n",
    "            if letter not in \"aeiou\":\n",
    "                vowel_pos=vowel_pos+1\n",
    "            else:           # break will take out to loop and go to 'else' part just above where i have written vowel_pos=0\n",
    "                break       # 'continue' again starts from for loop  \n",
    "        new_word=word[vowel_pos:]+word[0:vowel_pos]+'ay'\n",
    "        new_original.append(new_word)\n",
    "\n",
    "# putting all words of list new_original together to make a sentence with the help of join method with a blank space  (\" \")        \n",
    "output=\" \".join(new_original)   \n",
    "print(output)\n",
    "       "
   ]
  },
  {
   "cell_type": "code",
   "execution_count": 13,
   "metadata": {},
   "outputs": [
    {
     "name": "stdout",
     "output_type": "stream",
     "text": [
      "kumar found\n"
     ]
    }
   ],
   "source": [
    "names=['chandan','pathak','kumar']\n",
    "for name in names:\n",
    "    if name=='kumar':\n",
    "        print(name, \"found\")\n",
    "        continue"
   ]
  },
  {
   "cell_type": "code",
   "execution_count": null,
   "metadata": {},
   "outputs": [],
   "source": []
  }
 ],
 "metadata": {
  "kernelspec": {
   "display_name": "Python 3",
   "language": "python",
   "name": "python3"
  },
  "language_info": {
   "codemirror_mode": {
    "name": "ipython",
    "version": 3
   },
   "file_extension": ".py",
   "mimetype": "text/x-python",
   "name": "python",
   "nbconvert_exporter": "python",
   "pygments_lexer": "ipython3",
   "version": "3.7.4"
  }
 },
 "nbformat": 4,
 "nbformat_minor": 4
}
