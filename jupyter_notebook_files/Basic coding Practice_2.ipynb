{
 "cells": [
  {
   "cell_type": "code",
   "execution_count": null,
   "metadata": {},
   "outputs": [],
   "source": [
    "import random "
   ]
  },
  {
   "cell_type": "markdown",
   "metadata": {},
   "source": [
    "#### In python variable are casesensitive \n",
    "    Meaning if we do \n",
    "    number=1 \n",
    "    then we can't call it as 'NUMBER'\n",
    "    \n",
    "#### Python is a dynamically typed language meaning \n",
    "we can change the type of variable at any time \n",
    "\n",
    "check Below:--->>>\n",
    "         number=1 here type(number) will be 'int'\n",
    "         then we can dpo number='hello' now it will overwrite the hello on 1 and now type of number will be 'str'\n",
    "         \n",
    "         \n",
    "         \n",
    "         \n",
    "     Check Below :-->>"
   ]
  },
  {
   "cell_type": "code",
   "execution_count": 1,
   "metadata": {},
   "outputs": [
    {
     "name": "stdout",
     "output_type": "stream",
     "text": [
      "<class 'int'>\n"
     ]
    }
   ],
   "source": [
    "number=1\n",
    "print(type(number))"
   ]
  },
  {
   "cell_type": "code",
   "execution_count": 2,
   "metadata": {},
   "outputs": [
    {
     "name": "stdout",
     "output_type": "stream",
     "text": [
      "<class 'str'>\n"
     ]
    }
   ],
   "source": [
    "number='hello'\n",
    "print(type(number))"
   ]
  },
  {
   "cell_type": "markdown",
   "metadata": {},
   "source": [
    "### in python we count the occurence of any letter present in a string \n",
    "     Function use:-->'str.count(\"letter\")'  \n",
    " ##    general ways of working with string method is \"string.methods()\"\n",
    "     Check Below :-->>"
   ]
  },
  {
   "cell_type": "code",
   "execution_count": 4,
   "metadata": {},
   "outputs": [
    {
     "name": "stdout",
     "output_type": "stream",
     "text": [
      "1\n",
      "5\n",
      "1\n",
      "1\n"
     ]
    }
   ],
   "source": [
    "str=\"hello chandan pathak!! how are you\"\n",
    "print(str.count(\"ch\"))\n",
    "print(str.count('a'))\n",
    "print(str.count(\"pathak\"))\n",
    "print(str.count(\"! how\"))"
   ]
  },
  {
   "cell_type": "markdown",
   "metadata": {},
   "source": [
    "### strings are immutable datatype in python"
   ]
  },
  {
   "cell_type": "markdown",
   "metadata": {},
   "source": [
    "String Function :\n",
    "    1.istitle()\n",
    "    2.islower()\n",
    "    3.isupper()\n",
    "    4.isalpha()"
   ]
  },
  {
   "cell_type": "code",
   "execution_count": 7,
   "metadata": {
    "scrolled": true
   },
   "outputs": [
    {
     "name": "stdout",
     "output_type": "stream",
     "text": [
      "False\n",
      "Hello Chandan Pathak!! How Are You\n",
      "True\n",
      "hello chandan pathak!! how are you\n"
     ]
    }
   ],
   "source": [
    "print(str.isalpha())\n",
    "print(str.title())\n",
    "print(str.islower())\n",
    "print(str)"
   ]
  },
  {
   "cell_type": "code",
   "execution_count": 12,
   "metadata": {},
   "outputs": [
    {
     "name": "stdout",
     "output_type": "stream",
     "text": [
      "True\n",
      "True\n"
     ]
    }
   ],
   "source": [
    "print(\"123\".isalnum()) ## check alphanumeric\n",
    "print(\"1234\".isdigit()) ## check that if string contains only digit "
   ]
  },
  {
   "cell_type": "code",
   "execution_count": 13,
   "metadata": {
    "scrolled": true
   },
   "outputs": [
    {
     "data": {
      "text/plain": [
       "6"
      ]
     },
     "execution_count": 13,
     "metadata": {},
     "output_type": "execute_result"
    }
   ],
   "source": [
    "str.index(\"chandan\")"
   ]
  },
  {
   "cell_type": "markdown",
   "metadata": {},
   "source": [
    "### diference between \"str.find() and str.index()\":\n",
    "      Check Below "
   ]
  },
  {
   "cell_type": "code",
   "execution_count": 15,
   "metadata": {},
   "outputs": [
    {
     "ename": "ValueError",
     "evalue": "substring not found",
     "output_type": "error",
     "traceback": [
      "\u001b[1;31m---------------------------------------------------------------------------\u001b[0m",
      "\u001b[1;31mValueError\u001b[0m                                Traceback (most recent call last)",
      "\u001b[1;32m<ipython-input-15-b34a28125a44>\u001b[0m in \u001b[0;36m<module>\u001b[1;34m\u001b[0m\n\u001b[1;32m----> 1\u001b[1;33m \u001b[0mprint\u001b[0m\u001b[1;33m(\u001b[0m\u001b[0mstr\u001b[0m\u001b[1;33m.\u001b[0m\u001b[0mindex\u001b[0m\u001b[1;33m(\u001b[0m\u001b[1;34m\"hai hi nahi\"\u001b[0m\u001b[1;33m)\u001b[0m\u001b[1;33m)\u001b[0m\u001b[1;33m\u001b[0m\u001b[1;33m\u001b[0m\u001b[0m\n\u001b[0m\u001b[0;32m      2\u001b[0m \u001b[0mprint\u001b[0m\u001b[1;33m(\u001b[0m\u001b[1;34m\"\\n\"\u001b[0m\u001b[1;33m)\u001b[0m\u001b[1;33m\u001b[0m\u001b[1;33m\u001b[0m\u001b[0m\n\u001b[0;32m      3\u001b[0m \u001b[0mprint\u001b[0m\u001b[1;33m(\u001b[0m\u001b[0mstr\u001b[0m\u001b[1;33m.\u001b[0m\u001b[0mfind\u001b[0m\u001b[1;33m(\u001b[0m\u001b[1;34m\"hai hi nahi\"\u001b[0m\u001b[1;33m)\u001b[0m\u001b[1;33m)\u001b[0m\u001b[1;33m\u001b[0m\u001b[1;33m\u001b[0m\u001b[0m\n",
      "\u001b[1;31mValueError\u001b[0m: substring not found"
     ]
    }
   ],
   "source": [
    "print(str.index(\"hai hi nahi\"))\n",
    "print(\"\\n\")\n",
    "print(str.find(\"hai hi nahi\"))"
   ]
  },
  {
   "cell_type": "code",
   "execution_count": 18,
   "metadata": {
    "scrolled": true
   },
   "outputs": [
    {
     "name": "stdout",
     "output_type": "stream",
     "text": [
      " hello chandan\n",
      " hello chandan0000\n",
      "0000 hello chandan\n"
     ]
    }
   ],
   "source": [
    "str_1=\"0000 hello chandan0000\"\n",
    "print(str_1.strip(\"0\"))\n",
    "print(str_1.lstrip(\"0\"))\n",
    "print(str_1.rstrip(\"0\"))"
   ]
  },
  {
   "cell_type": "code",
   "execution_count": 21,
   "metadata": {
    "scrolled": true
   },
   "outputs": [
    {
     "name": "stdout",
     "output_type": "stream",
     "text": [
      "what is your name?ckp   \n",
      "ckp   \n",
      "6\n"
     ]
    }
   ],
   "source": [
    "name=input(\"what is your name?\")\n",
    "print(name)\n",
    "print(len(name))"
   ]
  },
  {
   "cell_type": "code",
   "execution_count": 22,
   "metadata": {},
   "outputs": [
    {
     "name": "stdout",
     "output_type": "stream",
     "text": [
      "what is your name :?ckp\n",
      "ckp\n",
      "3\n"
     ]
    }
   ],
   "source": [
    "name=input(\"what is your name :?\").strip()\n",
    "print(name)\n",
    "print(len(name))"
   ]
  },
  {
   "cell_type": "markdown",
   "metadata": {},
   "source": [
    "### Note:-->>\n",
    "            In above two exampl we can see that strip() function remove the space from either side of a string \n",
    "            bcz in first example while typing his name user make put 3 spaces after putting \"ckp\" that's why \n",
    "            length of name is showing as 6 in first example \n",
    "            \n",
    "            while in seond example even user put any number of spaces after putting ckp due to strip method it got removed \n",
    "            and length of name is coming as 3 which is correct length of string name "
   ]
  },
  {
   "cell_type": "markdown",
   "metadata": {},
   "source": [
    "#### Exampl of slicing "
   ]
  },
  {
   "cell_type": "code",
   "execution_count": 23,
   "metadata": {
    "scrolled": true
   },
   "outputs": [
    {
     "data": {
      "text/plain": [
       "'hello chandan pathak!! how are you'"
      ]
     },
     "execution_count": 23,
     "metadata": {},
     "output_type": "execute_result"
    }
   ],
   "source": [
    "str"
   ]
  },
  {
   "cell_type": "code",
   "execution_count": 25,
   "metadata": {
    "scrolled": true
   },
   "outputs": [
    {
     "data": {
      "text/plain": [
       "'pathak!! how are '"
      ]
     },
     "execution_count": 25,
     "metadata": {},
     "output_type": "execute_result"
    }
   ],
   "source": [
    "str[str.index(\"pathak\"):str.index(\"you\")]   ## str[start:end:step]"
   ]
  },
  {
   "cell_type": "markdown",
   "metadata": {},
   "source": [
    "#### Logical Operator in Python:\n",
    "     Operator \"Not\"\n",
    "     Check Below:-->>"
   ]
  },
  {
   "cell_type": "markdown",
   "metadata": {},
   "source": [
    "if \"condition is true\":  \n",
    "      Run this code \n",
    "      \n",
    "Above is the main concept of working of \"if\"      "
   ]
  },
  {
   "cell_type": "code",
   "execution_count": 30,
   "metadata": {
    "scrolled": true
   },
   "outputs": [
    {
     "name": "stdout",
     "output_type": "stream",
     "text": [
      "it worked\n",
      "\n",
      "\n",
      "it worked\n"
     ]
    }
   ],
   "source": [
    "if not 2<1:              ## not 2<1 will be True so it will become if True so below code will get executed\n",
    "    print(\"it worked\")\n",
    "print(\"\\n\")    \n",
    "if not 3==4:                  ## not 3==4 will be True so it will become if True so below code will get executed\n",
    "    print(\"it worked\")"
   ]
  },
  {
   "cell_type": "markdown",
   "metadata": {},
   "source": [
    "### Difference between string function \"del\" and \"remove\":\n",
    "     Check Below :-->>\n",
    "                we use \"remove\" when we know exactly which element we want to delete \n",
    "                we use \"del\" function with indexing on string "
   ]
  },
  {
   "cell_type": "code",
   "execution_count": 38,
   "metadata": {},
   "outputs": [
    {
     "name": "stdout",
     "output_type": "stream",
     "text": [
      "[1, 2, 3, 4, 'Hello', 'Hi', 'Bye']\n",
      "[1, 3, 4, 'Hello', 'Hi', 'Bye']\n",
      "[1, 3, 4, 'Hello', 'Bye']\n"
     ]
    }
   ],
   "source": [
    "str=[1,2,3,4,\"Hello\",\"Hi\",\"Bye\"]\n",
    "print(str)\n",
    "str.remove(2)  \n",
    "print(str)\n",
    "del str[4]\n",
    "print(str)"
   ]
  },
  {
   "cell_type": "markdown",
   "metadata": {},
   "source": [
    "#### Travis Project"
   ]
  },
  {
   "cell_type": "code",
   "execution_count": null,
   "metadata": {},
   "outputs": [],
   "source": [
    "known_users=[\"Sonu\",\"ck\",\"Pathak\",\"cp\",\"Mohan\",\"Sohan\"]\n",
    "while True:\n",
    "    print(\"Welcome to Travis Security Check\")\n",
    "    name=input(\"Who r u \")\n",
    "    if name in known_users:\n",
    "        print(\"You are most Welcome:\",name)\n",
    "    else:\n",
    "        print(\"I m so sorry ur name {} is not in our database\".format(name))\n",
    "    "
   ]
  },
  {
   "cell_type": "code",
   "execution_count": null,
   "metadata": {},
   "outputs": [],
   "source": [
    "name=input(\"how are you\")"
   ]
  },
  {
   "cell_type": "markdown",
   "metadata": {},
   "source": [
    "#### Difference between \"list.insert(index,element)\" and \"list.append(element)\":\n",
    "     list.insert add desired element at the mentioned index but append add the element at last of the list\n",
    "     Note :-->>Since list is mutable so after executing A.append(element) or A.insert(index,element) list gets updated and \n",
    "     if we do like A=A.append(element) then A will be deleted and it will be nine type \n",
    "     Check Below :-->>\n",
    "     "
   ]
  },
  {
   "cell_type": "code",
   "execution_count": 8,
   "metadata": {
    "scrolled": true
   },
   "outputs": [
    {
     "data": {
      "text/plain": [
       "[1, 2, 100, 3, 4]"
      ]
     },
     "execution_count": 8,
     "metadata": {},
     "output_type": "execute_result"
    }
   ],
   "source": [
    "A=[1,2,3,4]\n",
    "A.insert(2,100)\n",
    "A"
   ]
  },
  {
   "cell_type": "code",
   "execution_count": 17,
   "metadata": {
    "scrolled": true
   },
   "outputs": [
    {
     "data": {
      "text/plain": [
       "[1, 2, 100, 3, 4, 200]"
      ]
     },
     "execution_count": 17,
     "metadata": {},
     "output_type": "execute_result"
    }
   ],
   "source": [
    "A.append(200)\n",
    "A"
   ]
  },
  {
   "cell_type": "code",
   "execution_count": 19,
   "metadata": {},
   "outputs": [
    {
     "data": {
      "text/plain": [
       "[1, 2, 3, 4, 200]"
      ]
     },
     "execution_count": 19,
     "metadata": {},
     "output_type": "execute_result"
    }
   ],
   "source": [
    "A.remove(100)\n",
    "A"
   ]
  },
  {
   "cell_type": "markdown",
   "metadata": {},
   "source": [
    "## tuple:\n",
    "     1.immutable\n",
    "     2.iterable  just like list and string\n",
    "     3.Store multiple datatype"
   ]
  },
  {
   "cell_type": "code",
   "execution_count": 20,
   "metadata": {},
   "outputs": [],
   "source": [
    "first_tuple=1,2,3,\"A\",\"B\",\"C\"  # This is also a tuple without bracket noticable point"
   ]
  },
  {
   "cell_type": "code",
   "execution_count": 22,
   "metadata": {
    "scrolled": true
   },
   "outputs": [
    {
     "ename": "TypeError",
     "evalue": "'tuple' object does not support item assignment",
     "output_type": "error",
     "traceback": [
      "\u001b[1;31m---------------------------------------------------------------------------\u001b[0m",
      "\u001b[1;31mTypeError\u001b[0m                                 Traceback (most recent call last)",
      "\u001b[1;32m<ipython-input-22-9e42261448fb>\u001b[0m in \u001b[0;36m<module>\u001b[1;34m\u001b[0m\n\u001b[1;32m----> 1\u001b[1;33m \u001b[0mfirst_tuple\u001b[0m\u001b[1;33m[\u001b[0m\u001b[1;36m2\u001b[0m\u001b[1;33m]\u001b[0m\u001b[1;33m=\u001b[0m\u001b[1;34m\"P\"\u001b[0m\u001b[1;33m\u001b[0m\u001b[1;33m\u001b[0m\u001b[0m\n\u001b[0m",
      "\u001b[1;31mTypeError\u001b[0m: 'tuple' object does not support item assignment"
     ]
    }
   ],
   "source": [
    "first_tuple[2]=\"P\""
   ]
  },
  {
   "cell_type": "code",
   "execution_count": 23,
   "metadata": {},
   "outputs": [],
   "source": [
    "second_tuple=(1,2,4,5,6,\"hi\",\"hello\",\"hellohi\")"
   ]
  },
  {
   "cell_type": "code",
   "execution_count": 28,
   "metadata": {
    "scrolled": true
   },
   "outputs": [
    {
     "name": "stdout",
     "output_type": "stream",
     "text": [
      "(1, 2, 4, 5)\n",
      "\n",
      "\n",
      "6\n"
     ]
    }
   ],
   "source": [
    "print(second_tuple[0:4])\n",
    "print(\"\\n\")\n",
    "print(second_tuple[4])     ## we can perform slicing and indexing on tuple also like list and string"
   ]
  },
  {
   "cell_type": "code",
   "execution_count": 30,
   "metadata": {},
   "outputs": [
    {
     "name": "stdout",
     "output_type": "stream",
     "text": [
      "1\n",
      "2\n",
      "3\n"
     ]
    }
   ],
   "source": [
    "(A,B,C)=(1,2,3)  # this can be done with stringa nd list too\n",
    "print(A)\n",
    "print(B)\n",
    "print(C)"
   ]
  },
  {
   "cell_type": "markdown",
   "metadata": {},
   "source": [
    "### Dictionary:-->>\n",
    "     1.mutable"
   ]
  },
  {
   "cell_type": "code",
   "execution_count": 40,
   "metadata": {},
   "outputs": [],
   "source": [
    "dict={\"key1\":\"pathak\",\"key2\":\"chandan\"}"
   ]
  },
  {
   "cell_type": "code",
   "execution_count": 41,
   "metadata": {},
   "outputs": [
    {
     "data": {
      "text/plain": [
       "{'key1': 'pathak', 'key2': 'chandan'}"
      ]
     },
     "execution_count": 41,
     "metadata": {},
     "output_type": "execute_result"
    }
   ],
   "source": [
    "dict"
   ]
  },
  {
   "cell_type": "code",
   "execution_count": 34,
   "metadata": {
    "scrolled": true
   },
   "outputs": [
    {
     "data": {
      "text/plain": [
       "dict_keys(['key1', 'key2'])"
      ]
     },
     "execution_count": 34,
     "metadata": {},
     "output_type": "execute_result"
    }
   ],
   "source": [
    "dict.keys()"
   ]
  },
  {
   "cell_type": "code",
   "execution_count": 36,
   "metadata": {
    "scrolled": false
   },
   "outputs": [
    {
     "data": {
      "text/plain": [
       "'chandan'"
      ]
     },
     "execution_count": 36,
     "metadata": {},
     "output_type": "execute_result"
    }
   ],
   "source": [
    "dict[\"key2\"]"
   ]
  },
  {
   "cell_type": "code",
   "execution_count": 37,
   "metadata": {},
   "outputs": [],
   "source": [
    "del dict[\"key2\"]"
   ]
  },
  {
   "cell_type": "code",
   "execution_count": 38,
   "metadata": {
    "scrolled": true
   },
   "outputs": [
    {
     "data": {
      "text/plain": [
       "{'key1': 'pathak'}"
      ]
     },
     "execution_count": 38,
     "metadata": {},
     "output_type": "execute_result"
    }
   ],
   "source": [
    "dict"
   ]
  },
  {
   "cell_type": "code",
   "execution_count": null,
   "metadata": {},
   "outputs": [],
   "source": []
  },
  {
   "cell_type": "code",
   "execution_count": 15,
   "metadata": {},
   "outputs": [],
   "source": [
    "def CheckPrime(num):\n",
    "    if num>1:\n",
    "        for i in range(2,num):\n",
    "            if num%i==0:\n",
    "                print(\"not Prime\")\n",
    "                break\n",
    "        else:\n",
    "            print(\"Prime\")\n",
    "    else:\n",
    "        print(\"notPrime\")"
   ]
  },
  {
   "cell_type": "code",
   "execution_count": 13,
   "metadata": {},
   "outputs": [
    {
     "name": "stdout",
     "output_type": "stream",
     "text": [
      "not Prime\n"
     ]
    }
   ],
   "source": [
    "CheckPrime(8)"
   ]
  },
  {
   "cell_type": "code",
   "execution_count": 16,
   "metadata": {},
   "outputs": [
    {
     "name": "stdout",
     "output_type": "stream",
     "text": [
      "reached 5\n"
     ]
    }
   ],
   "source": [
    "for i in range (10):\n",
    "    if i==5:\n",
    "        print(\"reached\",i)\n",
    "        break\n"
   ]
  },
  {
   "cell_type": "code",
   "execution_count": 17,
   "metadata": {},
   "outputs": [],
   "source": [
    "def CheckPallindrome(str):\n",
    "    str=str.casefold()\n",
    "    rev_str=reversed(str)\n",
    "    if list(str)==list(rev_str):\n",
    "        print(\"Pallindrome\")\n",
    "    else:\n",
    "        print(\"Not Pallindrome\")"
   ]
  },
  {
   "cell_type": "code",
   "execution_count": 19,
   "metadata": {},
   "outputs": [
    {
     "name": "stdout",
     "output_type": "stream",
     "text": [
      "Not Pallindrome\n"
     ]
    }
   ],
   "source": [
    "CheckPallindrome(\"abc\")"
   ]
  },
  {
   "cell_type": "code",
   "execution_count": 20,
   "metadata": {},
   "outputs": [
    {
     "name": "stdout",
     "output_type": "stream",
     "text": [
      "Pallindrome\n"
     ]
    }
   ],
   "source": [
    "CheckPallindrome(\"aaa\")"
   ]
  },
  {
   "cell_type": "code",
   "execution_count": 50,
   "metadata": {},
   "outputs": [],
   "source": [
    "def PrintPrime(lower,upper):\n",
    "    count=0\n",
    "    for num in range(lower,upper+1):\n",
    "        if num>1:\n",
    "            for i in range(2,num):\n",
    "                if num%i==0:\n",
    "                    break\n",
    "            else:\n",
    "                count=count+1\n",
    "    print(count)    "
   ]
  },
  {
   "cell_type": "code",
   "execution_count": 51,
   "metadata": {},
   "outputs": [
    {
     "name": "stdout",
     "output_type": "stream",
     "text": [
      "4\n"
     ]
    }
   ],
   "source": [
    "PrintPrime(10,20)"
   ]
  },
  {
   "cell_type": "code",
   "execution_count": 55,
   "metadata": {},
   "outputs": [
    {
     "name": "stdout",
     "output_type": "stream",
     "text": [
      "5 6\n",
      "6 5\n"
     ]
    }
   ],
   "source": [
    "a=5\n",
    "b=6\n",
    "print(a,b)\n",
    "\n",
    "a,b=b,a\n",
    "print(a,b)"
   ]
  },
  {
   "cell_type": "code",
   "execution_count": 64,
   "metadata": {},
   "outputs": [
    {
     "name": "stdout",
     "output_type": "stream",
     "text": [
      "how many terms5\n",
      "0,1,1,2,3,"
     ]
    }
   ],
   "source": [
    "terms=int(input(\"how many terms\"))\n",
    "n1=0\n",
    "n2=1\n",
    "count=0\n",
    "if terms<1:\n",
    "    print(\"please enter a valid term\")\n",
    "elif terms==1:\n",
    "            print(\"fibonnaci series is\",n1)\n",
    "\n",
    "else:\n",
    "    while count<terms:\n",
    "            print(n1,end=',')\n",
    "            nth=n1+n2\n",
    "            n1=n2\n",
    "            n2=nth\n",
    "            count=count+1\n"
   ]
  },
  {
   "cell_type": "code",
   "execution_count": 65,
   "metadata": {},
   "outputs": [],
   "source": [
    "def fcat(n):\n",
    "    if n<0:\n",
    "        print(\"invalid no\")\n",
    "    elif n==0:\n",
    "        return 1\n",
    "    else:\n",
    "        return n*fcat(n-1)\n",
    "        "
   ]
  },
  {
   "cell_type": "code",
   "execution_count": 66,
   "metadata": {},
   "outputs": [
    {
     "data": {
      "text/plain": [
       "6"
      ]
     },
     "execution_count": 66,
     "metadata": {},
     "output_type": "execute_result"
    }
   ],
   "source": [
    "fcat(3)"
   ]
  },
  {
   "cell_type": "code",
   "execution_count": 67,
   "metadata": {},
   "outputs": [
    {
     "data": {
      "text/plain": [
       "24"
      ]
     },
     "execution_count": 67,
     "metadata": {},
     "output_type": "execute_result"
    }
   ],
   "source": [
    "fcat(4)"
   ]
  },
  {
   "cell_type": "code",
   "execution_count": null,
   "metadata": {},
   "outputs": [],
   "source": []
  }
 ],
 "metadata": {
  "kernelspec": {
   "display_name": "Python 3",
   "language": "python",
   "name": "python3"
  },
  "language_info": {
   "codemirror_mode": {
    "name": "ipython",
    "version": 3
   },
   "file_extension": ".py",
   "mimetype": "text/x-python",
   "name": "python",
   "nbconvert_exporter": "python",
   "pygments_lexer": "ipython3",
   "version": "3.7.4"
  }
 },
 "nbformat": 4,
 "nbformat_minor": 4
}
