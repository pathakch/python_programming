{
 "cells": [
  {
   "cell_type": "markdown",
   "metadata": {},
   "source": [
    "#### Note  :--->>> :\n",
    "    'print' and 'return' is not the same thing \n",
    "     print only show the output on screen ,we can't store the output coming from print in a variable meaning \n",
    "     this output is not getteing stored anywhere in computer memory\n",
    "     But\n",
    "     output coming from 'return' is getting stored somewhere in computer memory we can store this output in a variable \n",
    "     and use later\n",
    "     \n",
    "     1.def add(x,y):\n",
    "         print(x+y)\n",
    "       \n",
    "     2.def add(x,y):\n",
    "         return x+y"
   ]
  },
  {
   "cell_type": "markdown",
   "metadata": {},
   "source": [
    "### Variable Scope :\n",
    "     There are two scope of variables :\n",
    "     1.Global scope \n",
    "     2.Local scope\n",
    "     \n",
    "#### Note :->>>\n",
    "     1.python functions create local scope \n",
    "     2.Loops and if statements do not craete local scope "
   ]
  },
  {
   "cell_type": "markdown",
   "metadata": {},
   "source": [
    "### Global Scope of a variable :\n",
    "     Check Below :-->>"
   ]
  },
  {
   "cell_type": "code",
   "execution_count": 12,
   "metadata": {},
   "outputs": [
    {
     "name": "stdout",
     "output_type": "stream",
     "text": [
      "100\n",
      "100\n"
     ]
    }
   ],
   "source": [
    "a=100\n",
    "def f1():\n",
    "    print(a)\n",
    "\n",
    "def f2():\n",
    "    print(a)\n",
    "f1()\n",
    "f2()"
   ]
  },
  {
   "cell_type": "markdown",
   "metadata": {},
   "source": [
    "### Local Scope of a variable:\n",
    "     Check Below :-->>"
   ]
  },
  {
   "cell_type": "code",
   "execution_count": 9,
   "metadata": {},
   "outputs": [
    {
     "name": "stdout",
     "output_type": "stream",
     "text": [
      "50\n",
      "100\n"
     ]
    }
   ],
   "source": [
    "def f1():\n",
    "    a=50\n",
    "    print(a)\n",
    "def f2():\n",
    "    a=100\n",
    "    print(a)\n",
    "\n",
    "f1()\n",
    "f2()"
   ]
  },
  {
   "cell_type": "markdown",
   "metadata": {},
   "source": [
    "### Global and Local Variable :\n",
    "     function can't change the value of global variable\n",
    "     In below code w ecan see that the value of global variable a=100 is not changed instead we are changing \n",
    "     the value of a as 20 and a=30 but locally in function\n",
    "     Check Below :-->>"
   ]
  },
  {
   "cell_type": "code",
   "execution_count": 10,
   "metadata": {
    "scrolled": true
   },
   "outputs": [
    {
     "name": "stdout",
     "output_type": "stream",
     "text": [
      "20\n",
      "30\n",
      "100\n"
     ]
    }
   ],
   "source": [
    "a=100\n",
    "\n",
    "def f1():\n",
    "    a=20\n",
    "    print(a)\n",
    "\n",
    "def f2():\n",
    "    a=30\n",
    "    print(a)\n",
    "    \n",
    "f1()\n",
    "f2()\n",
    "print(a)    "
   ]
  },
  {
   "cell_type": "markdown",
   "metadata": {},
   "source": [
    "### Changing Global Variable :\n",
    "     We can change value of global variable using 'global variable_name' inside function\n",
    "     Check below :-->>"
   ]
  },
  {
   "cell_type": "code",
   "execution_count": 15,
   "metadata": {},
   "outputs": [
    {
     "name": "stdout",
     "output_type": "stream",
     "text": [
      "100\n",
      "100\n",
      "100\n"
     ]
    }
   ],
   "source": [
    "a=250\n",
    "\n",
    "def f1():\n",
    "    global a\n",
    "    a=100\n",
    "    print(a)\n",
    "    \n",
    "def f2():\n",
    "    \n",
    "    print(a)\n",
    "    \n",
    "f1()\n",
    "f2()\n",
    "print(a)"
   ]
  },
  {
   "cell_type": "markdown",
   "metadata": {},
   "source": [
    "### Exception of above Rules :\n",
    "    if global vriable is list or dictionaries then without putting keyword 'global variable_name'\n",
    "    we can change the piece of list or dictionary inside the function\n",
    "    \n",
    "    Check Below:-->>\n",
    "    "
   ]
  },
  {
   "cell_type": "code",
   "execution_count": 19,
   "metadata": {},
   "outputs": [
    {
     "name": "stdout",
     "output_type": "stream",
     "text": [
      "original list :  [1, 2, 3, 4]\n",
      "[1, 2, 100, 4]\n",
      "[1, 2, 100, 4]\n",
      "[1000, 2000, 3000]\n"
     ]
    }
   ],
   "source": [
    "a=[1,2,3,4]\n",
    "\n",
    "def f1():\n",
    "    a[2]=100    ## without putting \"global variable_name\" global piece of list has been changed \n",
    "    print(a)\n",
    "def f2():\n",
    "    print(a)\n",
    "def f3():\n",
    "    a=[1000,2000,3000]\n",
    "    print(a)\n",
    "\n",
    "print(\"original list : \",a)    \n",
    "f1()\n",
    "f2()\n",
    "f3()"
   ]
  },
  {
   "cell_type": "markdown",
   "metadata": {},
   "source": [
    "### Function parameters and arguments:\n",
    "     parameters are those which we define while defining function ex def add(x,y) here x and y are parameters \n",
    "     Argumets  are those which we give while calling functions ex add(2,3) here 2 and 3 are arguments \n",
    "     There are many types of arguments                             "
   ]
  },
  {
   "cell_type": "code",
   "execution_count": 2,
   "metadata": {},
   "outputs": [],
   "source": [
    "def about(name,age,likes): # this(name,age,likes) is parameters of function\n",
    "    sentence=\"Meet {} He is {} years old and he likes {}\".format(name,age,likes)\n",
    "    return sentence"
   ]
  },
  {
   "cell_type": "code",
   "execution_count": 24,
   "metadata": {},
   "outputs": [
    {
     "data": {
      "text/plain": [
       "'Meet chandan He is 25 years old and he likes python'"
      ]
     },
     "execution_count": 24,
     "metadata": {},
     "output_type": "execute_result"
    }
   ],
   "source": [
    "about(\"chandan\",25,\"python\") ## This (\"chandan\",25,\"pyhton\") is called positional arguments it should be in the same order of function"
   ]
  },
  {
   "cell_type": "code",
   "execution_count": 25,
   "metadata": {},
   "outputs": [
    {
     "data": {
      "text/plain": [
       "'Meet chandan He is 25 years old and he likes python'"
      ]
     },
     "execution_count": 25,
     "metadata": {},
     "output_type": "execute_result"
    }
   ],
   "source": [
    "about(age=25,name=\"chandan\",likes=\"python\") ## This is called \"keyword arguments\" we can put it in any order"
   ]
  },
  {
   "cell_type": "markdown",
   "metadata": {},
   "source": [
    "#### Default parameters:\n",
    "     Default parameters should be at last in function definition\n",
    "     Check Below :-->>"
   ]
  },
  {
   "cell_type": "code",
   "execution_count": 29,
   "metadata": {},
   "outputs": [
    {
     "name": "stdout",
     "output_type": "stream",
     "text": [
      "Meet chandan He is 25 and he likes football\n",
      "Meet Pathak He is 20 and he likes football\n"
     ]
    }
   ],
   "source": [
    "def about(name,age,likes=\"football\"): ## Here likes is default parameter as \"football\"\n",
    "    sentence=\"Meet {} He is {} and he likes {}\".format(name,age,likes)\n",
    "    return sentence\n",
    "\n",
    "print(about(\"chandan\",25))  ##Since we have given only two argumets but in function definition \n",
    "                             #we have given one parameter as default\n",
    "                             # so it will take third argument from there \n",
    "\n",
    "print(about(\"Pathak\",age=20))"
   ]
  },
  {
   "cell_type": "markdown",
   "metadata": {},
   "source": [
    "### packing and Unpacking using \n",
    "                                   (*args) and (**kwargs)\n",
    "     (*args) this is for multiple positional arguments\n",
    "     (**kwargs) this is for multiple keyword arguments"
   ]
  },
  {
   "cell_type": "markdown",
   "metadata": {},
   "source": [
    "## Unpacking of arguments:"
   ]
  },
  {
   "cell_type": "code",
   "execution_count": 34,
   "metadata": {},
   "outputs": [
    {
     "name": "stdout",
     "output_type": "stream",
     "text": [
      "1 2 3 4\n"
     ]
    }
   ],
   "source": [
    "print(1,2,3,4)"
   ]
  },
  {
   "cell_type": "code",
   "execution_count": 35,
   "metadata": {},
   "outputs": [
    {
     "name": "stdout",
     "output_type": "stream",
     "text": [
      "[1, 2, 3, 4]\n",
      "1 2 3 4\n"
     ]
    }
   ],
   "source": [
    "number=[1,2,3,4]   # here number is list type when we print it ,its getting printed as list (packed version)\n",
    "print(number)  \n",
    "print(*number)     # output of this code is unpacked version we can see in output ,because 'number' is of list type and \n",
    "                   #it's an iterable so when we have any type o iterable like list,string we can get \n",
    "                   #it printed as separate arguments inside a function using \"*\""
   ]
  },
  {
   "cell_type": "code",
   "execution_count": 37,
   "metadata": {},
   "outputs": [
    {
     "name": "stdout",
     "output_type": "stream",
     "text": [
      "a b c\n",
      "abc\n"
     ]
    }
   ],
   "source": [
    "print(*\"abc\")  # here string \"abc\" is an iterable and we can break it in separate arguments using '*'\n",
    "\n",
    "print(\"abc\") # this code will not give separate arguments because we didn't use \"*\" so it will be considered as single argument."
   ]
  },
  {
   "cell_type": "markdown",
   "metadata": {},
   "source": [
    "## Packing arguments in function:\n"
   ]
  },
  {
   "cell_type": "code",
   "execution_count": 38,
   "metadata": {},
   "outputs": [],
   "source": [
    "def add(*numbers):\n",
    "    total=0\n",
    "    for number in numbers:\n",
    "        total=total+number\n",
    "    return total    "
   ]
  },
  {
   "cell_type": "code",
   "execution_count": 46,
   "metadata": {},
   "outputs": [
    {
     "name": "stdout",
     "output_type": "stream",
     "text": [
      "15\n",
      "250\n"
     ]
    }
   ],
   "source": [
    "print(add(1,2,3,4,5)) # beauty of above function \"add\" is it can take any number of arguments and add them \n",
    "\n",
    "print(add(30,40,50,60,70))"
   ]
  },
  {
   "cell_type": "code",
   "execution_count": null,
   "metadata": {},
   "outputs": [],
   "source": []
  },
  {
   "cell_type": "code",
   "execution_count": null,
   "metadata": {},
   "outputs": [],
   "source": []
  },
  {
   "cell_type": "markdown",
   "metadata": {},
   "source": [
    "## keyword arguments :"
   ]
  },
  {
   "cell_type": "code",
   "execution_count": 49,
   "metadata": {},
   "outputs": [],
   "source": [
    "def about(name,age,likes):\n",
    "    sentence=\"meet {} he is {} and he likes {}\".format(name,age,likes)\n",
    "    return sentence"
   ]
  },
  {
   "cell_type": "code",
   "execution_count": 51,
   "metadata": {},
   "outputs": [],
   "source": [
    "student={\"name\":\"chandan\",\"age\":25,\"likes\":\"python\"}"
   ]
  },
  {
   "cell_type": "code",
   "execution_count": 58,
   "metadata": {},
   "outputs": [
    {
     "data": {
      "text/plain": [
       "'meet chandan he is 25 and he likes python'"
      ]
     },
     "execution_count": 58,
     "metadata": {},
     "output_type": "execute_result"
    }
   ],
   "source": [
    "about(**student)  ## using \"**\" we can unpack dictionary type of arguments ,check output "
   ]
  },
  {
   "cell_type": "code",
   "execution_count": 57,
   "metadata": {
    "scrolled": true
   },
   "outputs": [
    {
     "data": {
      "text/plain": [
       "'meet chandan he is 25 and he likes python'"
      ]
     },
     "execution_count": 57,
     "metadata": {},
     "output_type": "execute_result"
    }
   ],
   "source": [
    "about(name=\"chandan\",age=25,likes=\"python\") # same output is coming from above code also"
   ]
  },
  {
   "cell_type": "code",
   "execution_count": 10,
   "metadata": {},
   "outputs": [
    {
     "name": "stdout",
     "output_type": "stream",
     "text": [
      "{'name': 'cp', 'age': 90, 'game': 'tic tao toe'}\n",
      "dict_items([('name', 'cp'), ('age', 90), ('game', 'tic tao toe')])\n",
      "<class 'dict_items'>\n",
      "name : cp\n",
      "age : 90\n",
      "game : tic tao toe\n"
     ]
    }
   ],
   "source": [
    "new_dict={\"name\":\"cp\",\"age\":90,\"game\":\"tic tao toe\"}\n",
    "print(new_dict)\n",
    "print(new_dict.items())\n",
    "\n",
    "print(type(new_dict.items()))\n",
    "\n",
    "for key,value in new_dict.items():\n",
    "    print (key,\":\",value)"
   ]
  },
  {
   "cell_type": "markdown",
   "metadata": {},
   "source": [
    "### using \"**\" in arguments "
   ]
  },
  {
   "cell_type": "code",
   "execution_count": 11,
   "metadata": {},
   "outputs": [],
   "source": [
    "def info(**kwargs):\n",
    "    for key,value in kwargs.items():\n",
    "        print(\"{}:{}\".format(key,value))"
   ]
  },
  {
   "cell_type": "code",
   "execution_count": 13,
   "metadata": {},
   "outputs": [
    {
     "name": "stdout",
     "output_type": "stream",
     "text": [
      "chandan:male\n",
      "pathak:female\n",
      "sohan:male\n",
      "rohini:female\n"
     ]
    }
   ],
   "source": [
    "info(chandan=\"male\",pathak=\"female\",sohan=\"male\",rohini=\"female\")  ## here we can pass any number of arguments since in function we have used (**kwargs)"
   ]
  },
  {
   "cell_type": "code",
   "execution_count": 19,
   "metadata": {},
   "outputs": [
    {
     "name": "stdout",
     "output_type": "stream",
     "text": [
      "name:cp\n",
      "age:90\n",
      "game:tic tao toe\n"
     ]
    }
   ],
   "source": [
    "info(**new_dict)                 \n",
    "# \"\"\"Conclusion : we need to put ** in both places in function parameter \n",
    "# as well as while calling this function in arguments too\n",
    "# in function 'info' ** has been given in parameters section and \n",
    "# while calling in this cell code we have given ** before parameters also\n",
    "# now check Output Below\"\"\"\n"
   ]
  },
  {
   "cell_type": "markdown",
   "metadata": {},
   "source": [
    "### Tic Tac Toe Game :"
   ]
  },
  {
   "cell_type": "code",
   "execution_count": 17,
   "metadata": {
    "scrolled": false
   },
   "outputs": [
    {
     "name": "stdout",
     "output_type": "stream",
     "text": [
      "\n",
      "|  |  |  |\n",
      "|  |  |  |\n",
      "|  |  |  |\n",
      "\n",
      "Your turn player 1\n",
      "Enter your number from 0 to 91\n",
      "\n",
      "|x|  |  |\n",
      "|  |  |  |\n",
      "|  |  |  |\n",
      "\n",
      "Your turn player 2\n",
      "Enter your number from 0 to 93\n",
      "\n",
      "|x|  |o|\n",
      "|  |  |  |\n",
      "|  |  |  |\n",
      "\n",
      "\n",
      "|x|  |o|\n",
      "|  |  |  |\n",
      "|  |  |  |\n",
      "\n",
      "Your turn player 1\n",
      "Enter your number from 0 to 94\n",
      "\n",
      "|x|  |o|\n",
      "|x|  |  |\n",
      "|  |  |  |\n",
      "\n",
      "Your turn player 2\n",
      "Enter your number from 0 to 97\n",
      "\n",
      "|x|  |o|\n",
      "|x|  |  |\n",
      "|o|  |  |\n",
      "\n",
      "\n",
      "|x|  |o|\n",
      "|x|  |  |\n",
      "|o|  |  |\n",
      "\n",
      "Your turn player 1\n",
      "Enter your number from 0 to 95\n",
      "\n",
      "|x|  |o|\n",
      "|x|x|  |\n",
      "|o|  |  |\n",
      "\n",
      "Your turn player 2\n",
      "Enter your number from 0 to 99\n",
      "\n",
      "|x|  |o|\n",
      "|x|x|  |\n",
      "|o|  |o|\n",
      "\n",
      "\n",
      "|x|  |o|\n",
      "|x|x|  |\n",
      "|o|  |o|\n",
      "\n",
      "Your turn player 1\n",
      "Enter your number from 0 to 98\n",
      "\n",
      "|x|  |o|\n",
      "|x|x|  |\n",
      "|o|x|o|\n",
      "\n",
      "Your turn player 2\n",
      "Enter your number from 0 to 92\n",
      "\n",
      "|x|o|o|\n",
      "|x|x|  |\n",
      "|o|x|o|\n",
      "\n",
      "\n",
      "|x|o|o|\n",
      "|x|x|  |\n",
      "|o|x|o|\n",
      "\n",
      "Your turn player 1\n",
      "Enter your number from 0 to 96\n",
      "\n",
      "|x|o|o|\n",
      "|x|x|x|\n",
      "|o|x|o|\n",
      "\n",
      "X wins !! Congratulations\n"
     ]
    }
   ],
   "source": [
    "board=[\"  \" for i in range(9)]\n",
    "# board\n",
    "def print_board():\n",
    "    row1=\"|{}|{}|{}|\".format(board[0],board[1],board[2])\n",
    "    row2=\"|{}|{}|{}|\".format(board[3],board[4],board[5])\n",
    "    row3=\"|{}|{}|{}|\".format(board[6],board[7],board[8])\n",
    "    \n",
    "    print()\n",
    "    print(row1)\n",
    "    print(row2)\n",
    "    print(row3)\n",
    "    print()\n",
    "    \n",
    "def player_move(icon):\n",
    "    if icon==\"x\":\n",
    "        number=1\n",
    "    elif icon==\"o\":\n",
    "        number=2\n",
    "    print(\"Your turn player {}\".format(number))\n",
    "    \n",
    "    choice=int(input(\"Enter your number from 0 to 9\").strip())\n",
    "    if board[choice-1]==\"  \":\n",
    "        board[choice-1]=icon\n",
    "    else:\n",
    "        print(\"This place is already taken\")\n",
    "\n",
    "        \n",
    "def is_victory(icon):\n",
    "    if ((board[0]==icon and board[1]==icon and board[2]==icon) or\\\n",
    "        (board[3]==icon and board[4]==icon and board[5]==icon) or\\\n",
    "        (board[6]==icon and board[7]==icon and board[8]==icon) or\\\n",
    "        (board[0]==icon and board[3]==icon and board[6]==icon) or\\\n",
    "        (board[1]==icon and board[4]==icon and board[7]==icon) or\\\n",
    "        (board[2]==icon and board[5]==icon and board[8]==icon) or\\\n",
    "        (board[0]==icon and board[4]==icon and board[8]==icon) or\\\n",
    "        (board[2]==icon and board[4]==icon and board[6]==icon)):\n",
    "        return True\n",
    "    else:\n",
    "        return False\n",
    "def is_draw():\n",
    "    if \"  \" not in board:\n",
    "        return True\n",
    "    else:\n",
    "        False\n",
    "    \n",
    "while True:\n",
    "    print_board()\n",
    "    player_move(\"x\")\n",
    "    print_board()\n",
    "    if is_victory(\"x\"):\n",
    "        print(\"X wins !! Congratulations\")\n",
    "        break\n",
    "    elif is_draw():\n",
    "        print(\"Game is draw\")\n",
    "        break\n",
    "    player_move(\"o\")\n",
    "    print_board()\n",
    "    if is_victory(\"o\"):\n",
    "        print(\"O wins!! Congratulations\")\n",
    "        break\n",
    "    elif is_draw():\n",
    "        print(\"Game is draw\")\n",
    "        break\n",
    "    "
   ]
  },
  {
   "cell_type": "code",
   "execution_count": 75,
   "metadata": {
    "scrolled": true
   },
   "outputs": [
    {
     "name": "stdout",
     "output_type": "stream",
     "text": [
      "|  |  |  |\n",
      "|  |  |  |\n",
      "|  |  |  |\n"
     ]
    }
   ],
   "source": [
    "print_board()"
   ]
  },
  {
   "cell_type": "code",
   "execution_count": null,
   "metadata": {},
   "outputs": [],
   "source": []
  }
 ],
 "metadata": {
  "kernelspec": {
   "display_name": "Python 3",
   "language": "python",
   "name": "python3"
  },
  "language_info": {
   "codemirror_mode": {
    "name": "ipython",
    "version": 3
   },
   "file_extension": ".py",
   "mimetype": "text/x-python",
   "name": "python",
   "nbconvert_exporter": "python",
   "pygments_lexer": "ipython3",
   "version": "3.7.4"
  }
 },
 "nbformat": 4,
 "nbformat_minor": 4
}
