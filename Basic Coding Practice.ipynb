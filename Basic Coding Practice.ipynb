{
 "cells": [
  {
   "cell_type": "markdown",
   "metadata": {},
   "source": [
    "#### Check whether number is prime "
   ]
  },
  {
   "cell_type": "code",
   "execution_count": 33,
   "metadata": {},
   "outputs": [],
   "source": [
    "def chekPrime(num):\n",
    "    if num>1:\n",
    "        for i in range(2,num):\n",
    "            if num%i==0:\n",
    "                print(\"Not Prime\")\n",
    "                break\n",
    "        else:\n",
    "            print(\"Prime\")\n",
    "    else:\n",
    "        print(\"Not Prime\")\n",
    "        "
   ]
  },
  {
   "cell_type": "code",
   "execution_count": 35,
   "metadata": {},
   "outputs": [
    {
     "name": "stdout",
     "output_type": "stream",
     "text": [
      "Not Prime\n"
     ]
    }
   ],
   "source": [
    "chekPrime(8)"
   ]
  },
  {
   "cell_type": "code",
   "execution_count": 29,
   "metadata": {},
   "outputs": [
    {
     "name": "stdout",
     "output_type": "stream",
     "text": [
      "2\n",
      "3\n",
      "4\n",
      "5\n"
     ]
    }
   ],
   "source": [
    "number=6\n",
    "for i in range (2,number):\n",
    "    print(i)"
   ]
  },
  {
   "cell_type": "markdown",
   "metadata": {},
   "source": [
    "#### Check whether string is palindrome"
   ]
  },
  {
   "cell_type": "code",
   "execution_count": 47,
   "metadata": {},
   "outputs": [],
   "source": [
    "def checkPalindrom(str):\n",
    "    str=str.casefold()\n",
    "    rev_str=reversed(str)\n",
    "    if list(str)==list(rev_str):\n",
    "        print(\"Palindrome\")\n",
    "    else:\n",
    "        print(\"Not Palindrome\")"
   ]
  },
  {
   "cell_type": "code",
   "execution_count": 48,
   "metadata": {
    "scrolled": false
   },
   "outputs": [
    {
     "name": "stdout",
     "output_type": "stream",
     "text": [
      "Palindrome\n"
     ]
    }
   ],
   "source": [
    "checkPalindrom('aba')"
   ]
  },
  {
   "cell_type": "markdown",
   "metadata": {},
   "source": [
    "#### Print prime numbers between intervals"
   ]
  },
  {
   "cell_type": "code",
   "execution_count": 13,
   "metadata": {},
   "outputs": [],
   "source": [
    "def primeInterval(lower,upper):\n",
    "    for num in range(lower,upper+1):\n",
    "        if num >1:\n",
    "            for i in range(2,num):\n",
    "                if num%i==0:\n",
    "                    break\n",
    "            else:\n",
    "                print(\"Prime\",num)\n",
    "                \n",
    "        else:\n",
    "            print(\"Not Prime\")"
   ]
  },
  {
   "cell_type": "code",
   "execution_count": 14,
   "metadata": {},
   "outputs": [
    {
     "name": "stdout",
     "output_type": "stream",
     "text": [
      "Prime 5\n",
      "Prime 7\n",
      "Prime 11\n",
      "Prime 13\n"
     ]
    }
   ],
   "source": [
    "primeInterval(5,15)"
   ]
  },
  {
   "cell_type": "markdown",
   "metadata": {},
   "source": [
    "#### Counting prime numbers in a given interval"
   ]
  },
  {
   "cell_type": "code",
   "execution_count": 89,
   "metadata": {},
   "outputs": [],
   "source": [
    "def CntprimeInterval(lower,upper):\n",
    "    count=0\n",
    "    for num in range(lower,upper+1):\n",
    "        if num >1:\n",
    "            for i in range(2,num):\n",
    "                if num%i==0:\n",
    "                    break\n",
    "            else:\n",
    "                count=count+1\n",
    "              \n",
    "                \n",
    "        else:\n",
    "            print(\"Not Prime\")\n",
    "    print(\"Number of prime numbers in this interval :\",count)             "
   ]
  },
  {
   "cell_type": "code",
   "execution_count": 93,
   "metadata": {},
   "outputs": [
    {
     "name": "stdout",
     "output_type": "stream",
     "text": [
      "Number of prime numbers in this interval : 24\n"
     ]
    }
   ],
   "source": [
    "CntprimeInterval(3,100)"
   ]
  },
  {
   "cell_type": "markdown",
   "metadata": {},
   "source": [
    "#### Swaping of two variables:"
   ]
  },
  {
   "cell_type": "code",
   "execution_count": 100,
   "metadata": {
    "scrolled": true
   },
   "outputs": [
    {
     "name": "stdout",
     "output_type": "stream",
     "text": [
      "before swaping x= 10 y= 5\n",
      "After swaping x= 5 y= 10\n"
     ]
    }
   ],
   "source": [
    "x=10\n",
    "y=5\n",
    "print(\"before swaping x=\",x,\"y=\",y)\n",
    "temp=x\n",
    "x=y\n",
    "y=temp\n",
    "print(\"After swaping x=\",x,\"y=\",y)"
   ]
  },
  {
   "cell_type": "markdown",
   "metadata": {},
   "source": [
    "#### Other method of Swapping"
   ]
  },
  {
   "cell_type": "code",
   "execution_count": 102,
   "metadata": {
    "scrolled": false
   },
   "outputs": [
    {
     "name": "stdout",
     "output_type": "stream",
     "text": [
      "Before swaping x= 100 y= 200\n",
      "After swaping x= 200 y= 100\n"
     ]
    }
   ],
   "source": [
    "x=100\n",
    "y=200\n",
    "print(\"Before swaping x=\",x,\"y=\",y)\n",
    "x,y=y,x\n",
    "print(\"After swaping x=\",x,\"y=\",y)"
   ]
  },
  {
   "cell_type": "markdown",
   "metadata": {},
   "source": [
    "### Checking Whether number is Armstrong Number or not "
   ]
  },
  {
   "cell_type": "code",
   "execution_count": 118,
   "metadata": {},
   "outputs": [
    {
     "name": "stdout",
     "output_type": "stream",
     "text": [
      "Armstrong\n"
     ]
    }
   ],
   "source": [
    "num=371\n",
    "temp=num\n",
    "n=len(str(num))\n",
    "sum = 0\n",
    "while temp > 0:\n",
    "    digit=temp%10\n",
    "    sum +=digit**n\n",
    "    temp //=10\n",
    "       \n",
    "if num==sum:\n",
    "      print(\"Armstrong\")\n",
    "else:\n",
    "      print(\"not Armstrong\")"
   ]
  },
  {
   "cell_type": "code",
   "execution_count": 107,
   "metadata": {
    "scrolled": true
   },
   "outputs": [
    {
     "data": {
      "text/plain": [
       "3"
      ]
     },
     "execution_count": 107,
     "metadata": {},
     "output_type": "execute_result"
    }
   ],
   "source": [
    "number=800\n",
    "len(str(number))"
   ]
  },
  {
   "cell_type": "code",
   "execution_count": 3,
   "metadata": {},
   "outputs": [
    {
     "data": {
      "text/plain": [
       "3"
      ]
     },
     "execution_count": 3,
     "metadata": {},
     "output_type": "execute_result"
    }
   ],
   "source": [
    "len(str(500))"
   ]
  },
  {
   "cell_type": "markdown",
   "metadata": {},
   "source": [
    "### Printing Fibonacci Series up to given terms"
   ]
  },
  {
   "cell_type": "code",
   "execution_count": 191,
   "metadata": {
    "scrolled": true
   },
   "outputs": [
    {
     "name": "stdout",
     "output_type": "stream",
     "text": [
      "how many terms :3\n",
      "fibonacci sequence upto 3 :\n",
      "0,1,1,"
     ]
    }
   ],
   "source": [
    "nterms=int(input(\"how many terms :\"))\n",
    "n1=0\n",
    "n2=1\n",
    "count=0\n",
    "if nterms <= 0:\n",
    "    print(\"plz enter a +ve integer \")\n",
    "elif nterms==1:\n",
    "    print(\"fibonacci sequence upto\", nterms,\":\")\n",
    "    print(n1)\n",
    "else:\n",
    "    print(\"fibonacci sequence upto\",nterms,\":\")\n",
    "    while count < nterms:\n",
    "        print(n1,end=',')\n",
    "        nth=n1+n2\n",
    "        n1=n2\n",
    "        n2=nth\n",
    "        count=count+1"
   ]
  },
  {
   "cell_type": "code",
   "execution_count": 129,
   "metadata": {
    "scrolled": true
   },
   "outputs": [
    {
     "name": "stdout",
     "output_type": "stream",
     "text": [
      "How many terms :3\n",
      "Fibonacci sequence upto 3 :\n",
      "2,3,5,"
     ]
    }
   ],
   "source": [
    "nterms=int(input(\"How many terms :\"))\n",
    "n1=2\n",
    "n2=3\n",
    "count=0\n",
    "if nterms < 0:\n",
    "    print(\"please enter a +ve integer\")\n",
    "    \n",
    "elif nterms==1:\n",
    "    print(\"Fibonacci sequence upto\",nterms,\":\")\n",
    "    print(n1)\n",
    "    \n",
    "else:\n",
    "    print(\"Fibonacci sequence upto\",nterms,\":\")\n",
    "    while count < nterms:\n",
    "        print(n1,end=',')\n",
    "        nth=n1+n2\n",
    "        n1=n2\n",
    "        n2=nth\n",
    "        count=count+1 "
   ]
  },
  {
   "cell_type": "markdown",
   "metadata": {},
   "source": [
    "### Printing sum of n natural numbers using recursion"
   ]
  },
  {
   "cell_type": "code",
   "execution_count": 163,
   "metadata": {},
   "outputs": [],
   "source": [
    "def recu_sum(n):\n",
    "    if n <=1:\n",
    "        return n\n",
    "    else:\n",
    "        return (n+recu_sum(n-1))\n"
   ]
  },
  {
   "cell_type": "code",
   "execution_count": 164,
   "metadata": {},
   "outputs": [
    {
     "name": "stdout",
     "output_type": "stream",
     "text": [
      "Sum of 5 natural numbers is 15\n"
     ]
    }
   ],
   "source": [
    "n=5\n",
    "if n < 0:\n",
    "    print(\"Enter a valid natural number\")\n",
    "else:\n",
    "    print(\"Sum of {} natural numbers is {}\".format(n,recu_sum(n)))"
   ]
  },
  {
   "cell_type": "markdown",
   "metadata": {},
   "source": [
    "### Printing Factorial of a given number using recursive function"
   ]
  },
  {
   "cell_type": "code",
   "execution_count": 175,
   "metadata": {},
   "outputs": [],
   "source": [
    "def fact(n):\n",
    "    if n==1:\n",
    "        return n\n",
    "    else:\n",
    "        return (n*fact(n-1))"
   ]
  },
  {
   "cell_type": "code",
   "execution_count": 180,
   "metadata": {},
   "outputs": [
    {
     "name": "stdout",
     "output_type": "stream",
     "text": [
      "Enter required number : 4\n",
      "Factorial of 4 is 24 \n"
     ]
    }
   ],
   "source": [
    "num=int(input(\"Enter required number : \"))\n",
    "if num < 0:\n",
    "    print(\"Please enter a valid integer\")\n",
    "else:\n",
    "    print(\"Factorial of {} is {} \".format(num,fact(num)))"
   ]
  },
  {
   "cell_type": "code",
   "execution_count": 184,
   "metadata": {
    "scrolled": true
   },
   "outputs": [
    {
     "name": "stdout",
     "output_type": "stream",
     "text": [
      "Hello:"
     ]
    }
   ],
   "source": [
    "print('Hello',end=':')"
   ]
  },
  {
   "cell_type": "markdown",
   "metadata": {},
   "source": [
    "### Finding factorial of a given number using recursive function"
   ]
  },
  {
   "cell_type": "code",
   "execution_count": 197,
   "metadata": {},
   "outputs": [],
   "source": [
    "def recu_fibo(n):\n",
    "    if n <= 1:\n",
    "        return n\n",
    "    else:\n",
    "        return recu_fibo(n-1)+recu_fibo(n-2)"
   ]
  },
  {
   "cell_type": "code",
   "execution_count": 204,
   "metadata": {
    "scrolled": true
   },
   "outputs": [
    {
     "name": "stdout",
     "output_type": "stream",
     "text": [
      "Enter no of terms : 3\n",
      "Fibonacci sequence for no of terms 3 is \n",
      "0\n",
      "1\n",
      "1\n"
     ]
    }
   ],
   "source": [
    "nterms=int(input(\"Enter no of terms : \"))\n",
    "if nterms < 0:\n",
    "    print(\"enter a valid terms\")\n",
    "else:\n",
    "    print(\"Fibonacci sequence for no of terms {} is \".format(nterms))\n",
    "    for i in range(nterms):\n",
    "        print(recu_fibo(i))"
   ]
  },
  {
   "cell_type": "markdown",
   "metadata": {},
   "source": [
    "### Printing fibonacci sequences with recursive function"
   ]
  },
  {
   "cell_type": "code",
   "execution_count": 217,
   "metadata": {},
   "outputs": [],
   "source": [
    "def ConvertToBinary(n):\n",
    "    if n>=1:\n",
    "        ConvertToBinary(n//2)  # here (n//2) is \"floor division\" function which truncate the fractional part and moves to the left on number line \n",
    "    print(n%2,end='')    "
   ]
  },
  {
   "cell_type": "code",
   "execution_count": 213,
   "metadata": {
    "scrolled": true
   },
   "outputs": [
    {
     "name": "stdout",
     "output_type": "stream",
     "text": [
      "enter number5\n",
      "0101"
     ]
    }
   ],
   "source": [
    "n=int(input(\"enter number\"))\n",
    "ConvertToBinary(n)"
   ]
  },
  {
   "cell_type": "markdown",
   "metadata": {},
   "source": [
    "### Floor Division\n",
    "  ***in Python 2 floor division and normal division were same but,from python 3 floor division is changed now as explained below:***"
   ]
  },
  {
   "cell_type": "code",
   "execution_count": 215,
   "metadata": {
    "scrolled": true
   },
   "outputs": [
    {
     "name": "stdout",
     "output_type": "stream",
     "text": [
      "3\n",
      "3.5\n"
     ]
    }
   ],
   "source": [
    "print(7//2)\n",
    "print(7/2)"
   ]
  },
  {
   "cell_type": "markdown",
   "metadata": {},
   "source": [
    "### Removing Punctuations from a given string"
   ]
  },
  {
   "cell_type": "code",
   "execution_count": 231,
   "metadata": {},
   "outputs": [],
   "source": [
    "def removePunc(text):\n",
    "    punctuations='''[]{}()/\\!#$%^&*-_<>,\"\"''+*@?:;|='''\n",
    "    new_text=''\n",
    "    for char in text:\n",
    "        if char not in punctuations:\n",
    "            new_text=new_text+char\n",
    "    return new_text               "
   ]
  },
  {
   "cell_type": "code",
   "execution_count": 235,
   "metadata": {
    "scrolled": true
   },
   "outputs": [
    {
     "name": "stdout",
     "output_type": "stream",
     "text": [
      "enter text : hello @ ck # Chandan\n",
      "New text : 'hello  ck  Chandan' after removing punctuations \n"
     ]
    }
   ],
   "source": [
    "text=str(input(\"enter text : \"))\n",
    "print(\"New text : '{}' after removing punctuations \".format(removePunc(text)))"
   ]
  },
  {
   "cell_type": "code",
   "execution_count": 233,
   "metadata": {
    "scrolled": true
   },
   "outputs": [
    {
     "data": {
      "text/plain": [
       "'heloo'"
      ]
     },
     "execution_count": 233,
     "metadata": {},
     "output_type": "execute_result"
    }
   ],
   "source": [
    "removePunc('heloo@@')"
   ]
  },
  {
   "cell_type": "markdown",
   "metadata": {},
   "source": [
    "### Sorting words of a string in alphabetical order"
   ]
  },
  {
   "cell_type": "code",
   "execution_count": 257,
   "metadata": {},
   "outputs": [],
   "source": [
    "def sortWord(text):\n",
    "    text_list=text.split()\n",
    "    text_list.sort()\n",
    "    for word in text_list:\n",
    "        print(word)"
   ]
  },
  {
   "cell_type": "code",
   "execution_count": 259,
   "metadata": {},
   "outputs": [
    {
     "name": "stdout",
     "output_type": "stream",
     "text": [
      "enter text : helloc chandan pathak munna \n",
      "chandan\n",
      "helloc\n",
      "munna\n",
      "pathak\n"
     ]
    }
   ],
   "source": [
    "text=input(\"enter text : \")\n",
    "sortWord(text)"
   ]
  },
  {
   "cell_type": "code",
   "execution_count": 269,
   "metadata": {},
   "outputs": [
    {
     "ename": "TypeError",
     "evalue": "'builtin_function_or_method' object is not iterable",
     "output_type": "error",
     "traceback": [
      "\u001b[1;31m---------------------------------------------------------------------------\u001b[0m",
      "\u001b[1;31mTypeError\u001b[0m                                 Traceback (most recent call last)",
      "\u001b[1;32m<ipython-input-269-5a2d638da904>\u001b[0m in \u001b[0;36m<module>\u001b[1;34m\u001b[0m\n\u001b[1;32m----> 1\u001b[1;33m \u001b[1;32mfor\u001b[0m \u001b[0mchar\u001b[0m \u001b[1;32min\u001b[0m \u001b[1;33m(\u001b[0m\u001b[1;34m'hello ck'\u001b[0m\u001b[1;33m.\u001b[0m\u001b[0msplit\u001b[0m\u001b[1;33m(\u001b[0m\u001b[1;33m)\u001b[0m\u001b[1;33m.\u001b[0m\u001b[0msort\u001b[0m\u001b[1;33m)\u001b[0m\u001b[1;33m:\u001b[0m\u001b[1;33m\u001b[0m\u001b[1;33m\u001b[0m\u001b[0m\n\u001b[0m\u001b[0;32m      2\u001b[0m     \u001b[0mprint\u001b[0m\u001b[1;33m(\u001b[0m\u001b[0mchar\u001b[0m\u001b[1;33m)\u001b[0m\u001b[1;33m\u001b[0m\u001b[1;33m\u001b[0m\u001b[0m\n\u001b[0;32m      3\u001b[0m \u001b[1;33m\u001b[0m\u001b[0m\n\u001b[0;32m      4\u001b[0m \u001b[1;31m# print('hello ck'.split().sort())\u001b[0m\u001b[1;33m\u001b[0m\u001b[1;33m\u001b[0m\u001b[1;33m\u001b[0m\u001b[0m\n",
      "\u001b[1;31mTypeError\u001b[0m: 'builtin_function_or_method' object is not iterable"
     ]
    }
   ],
   "source": [
    "for char in ('hello ck'.split().sort):\n",
    "    print(char)\n",
    "\n",
    "# print('hello ck'.split().sort())"
   ]
  },
  {
   "cell_type": "markdown",
   "metadata": {},
   "source": [
    "### Printing Factors of a number"
   ]
  },
  {
   "cell_type": "code",
   "execution_count": 272,
   "metadata": {},
   "outputs": [],
   "source": [
    "def factor(n):\n",
    "    for i in range(1,n+1):\n",
    "        if n%i==0:\n",
    "            print(i)          "
   ]
  },
  {
   "cell_type": "code",
   "execution_count": 273,
   "metadata": {},
   "outputs": [
    {
     "name": "stdout",
     "output_type": "stream",
     "text": [
      "1\n",
      "2\n",
      "3\n",
      "4\n",
      "6\n",
      "12\n"
     ]
    }
   ],
   "source": [
    "factor(12)"
   ]
  },
  {
   "cell_type": "markdown",
   "metadata": {},
   "source": [
    " #### Printing table of 12:"
   ]
  },
  {
   "cell_type": "code",
   "execution_count": 6,
   "metadata": {},
   "outputs": [
    {
     "name": "stdout",
     "output_type": "stream",
     "text": [
      "enter num ? :12\n",
      "12 X 1 = 12\n",
      "12 X 2 = 24\n",
      "12 X 3 = 36\n",
      "12 X 4 = 48\n",
      "12 X 5 = 60\n",
      "12 X 6 = 72\n",
      "12 X 7 = 84\n",
      "12 X 8 = 96\n",
      "12 X 9 = 108\n",
      "12 X 10 = 120\n"
     ]
    }
   ],
   "source": [
    "num=int(input(\"enter num ? :\"))\n",
    "for i in range(1,11):\n",
    "    print(num,\"X\", i, \"=\",num*i)"
   ]
  },
  {
   "cell_type": "markdown",
   "metadata": {},
   "source": [
    "#### Finding LCM of two numbers:\n"
   ]
  },
  {
   "cell_type": "code",
   "execution_count": 11,
   "metadata": {},
   "outputs": [
    {
     "data": {
      "text/plain": [
       "12"
      ]
     },
     "execution_count": 11,
     "metadata": {},
     "output_type": "execute_result"
    }
   ],
   "source": [
    "def Find_Lcm(x,y):\n",
    "    if x>y:\n",
    "        greater=x\n",
    "    else:\n",
    "        greater=y\n",
    "    while(True):\n",
    "        if ((greater%x==0) and (greater%y==0)):\n",
    "            lcm=greater\n",
    "            break\n",
    "        greater=greater+1\n",
    "    return lcm\n",
    "\n",
    "Find_Lcm(4,3)"
   ]
  },
  {
   "cell_type": "code",
   "execution_count": null,
   "metadata": {},
   "outputs": [],
   "source": []
  }
 ],
 "metadata": {
  "kernelspec": {
   "display_name": "Python 3",
   "language": "python",
   "name": "python3"
  },
  "language_info": {
   "codemirror_mode": {
    "name": "ipython",
    "version": 3
   },
   "file_extension": ".py",
   "mimetype": "text/x-python",
   "name": "python",
   "nbconvert_exporter": "python",
   "pygments_lexer": "ipython3",
   "version": "3.7.4"
  }
 },
 "nbformat": 4,
 "nbformat_minor": 2
}
