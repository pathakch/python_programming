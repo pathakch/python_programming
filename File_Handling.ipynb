{
 "cells": [
  {
   "cell_type": "code",
   "execution_count": 13,
   "metadata": {},
   "outputs": [],
   "source": [
    "# f=open(\"C:\\\\Users\\\\ckp43_000\\\\Documents\\\\tech_file.txt\",\"r\")"
   ]
  },
  {
   "cell_type": "code",
   "execution_count": 19,
   "metadata": {},
   "outputs": [],
   "source": [
    "def open_file_write_mode():\n",
    "    f=open(\"C:\\\\Users\\\\ckp43_000\\\\Documents\\\\tech_file.txt\",\"w\")\n",
    "    f.write(\"We are hero\")\n",
    "    f.close()"
   ]
  },
  {
   "cell_type": "code",
   "execution_count": 20,
   "metadata": {},
   "outputs": [],
   "source": [
    "def open_file_read_mode():\n",
    "    f=open(\"C:\\\\Users\\\\ckp43_000\\\\Documents\\\\tech_file.txt\",\"r\")\n",
    "    print(f.read())"
   ]
  },
  {
   "cell_type": "code",
   "execution_count": 21,
   "metadata": {},
   "outputs": [],
   "source": [
    "open_file_write_mode()"
   ]
  },
  {
   "cell_type": "code",
   "execution_count": 22,
   "metadata": {},
   "outputs": [
    {
     "name": "stdout",
     "output_type": "stream",
     "text": [
      "We are hero\n"
     ]
    }
   ],
   "source": [
    "open_file_read_mode()"
   ]
  },
  {
   "cell_type": "code",
   "execution_count": 26,
   "metadata": {},
   "outputs": [],
   "source": [
    "file=open(\"C:\\\\Users\\\\ckp43_000\\\\Documents\\\\tech_file.txt\",\"r\")"
   ]
  },
  {
   "cell_type": "code",
   "execution_count": 24,
   "metadata": {},
   "outputs": [
    {
     "name": "stdout",
     "output_type": "stream",
     "text": [
      "We are hero\n"
     ]
    }
   ],
   "source": [
    "for line in file:\n",
    "    print(line)"
   ]
  },
  {
   "cell_type": "code",
   "execution_count": 29,
   "metadata": {},
   "outputs": [
    {
     "name": "stdout",
     "output_type": "stream",
     "text": [
      " hero\n"
     ]
    }
   ],
   "source": [
    "print(file.read(5))"
   ]
  },
  {
   "cell_type": "code",
   "execution_count": 3,
   "metadata": {},
   "outputs": [],
   "source": [
    "new_file=open(\"C:\\\\Users\\\\ckp43_000\\\\Documents\\\\new_tech_file.txt\",\"w\")"
   ]
  },
  {
   "cell_type": "code",
   "execution_count": 4,
   "metadata": {},
   "outputs": [],
   "source": [
    "def open_file_write_mode():\n",
    "    new_file=open(\"C:\\\\Users\\\\ckp43_000\\\\Documents\\\\new_tech_file.txt\",\"w\")\n",
    "    new_file.write(\"We are new_hero\")\n",
    "    new_file.close()\n",
    "    \n",
    "open_file_write_mode()"
   ]
  },
  {
   "cell_type": "code",
   "execution_count": 7,
   "metadata": {},
   "outputs": [],
   "source": [
    "def open_file_read_mode():\n",
    "    new_file=open(\"C:\\\\Users\\\\ckp43_000\\\\Documents\\\\new_tech_file.txt\",\"r\")\n",
    "    print(new_file.read())"
   ]
  },
  {
   "cell_type": "code",
   "execution_count": 8,
   "metadata": {},
   "outputs": [
    {
     "name": "stdout",
     "output_type": "stream",
     "text": [
      "We are new_hero\n"
     ]
    }
   ],
   "source": [
    "open_file_read_mode()"
   ]
  }
 ],
 "metadata": {
  "kernelspec": {
   "display_name": "Python 3",
   "language": "python",
   "name": "python3"
  },
  "language_info": {
   "codemirror_mode": {
    "name": "ipython",
    "version": 3
   },
   "file_extension": ".py",
   "mimetype": "text/x-python",
   "name": "python",
   "nbconvert_exporter": "python",
   "pygments_lexer": "ipython3",
   "version": "3.7.4"
  }
 },
 "nbformat": 4,
 "nbformat_minor": 4
}
